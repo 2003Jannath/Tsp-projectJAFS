{
 "cells": [
  {
   "cell_type": "markdown",
   "id": "bd80fc40",
   "metadata": {},
   "source": [
    "**Problem Definition**\n",
    "\n",
    "Convert the Sign Alphabet to Text\n",
    "\n",
    "**Data**\n",
    "\n",
    "[Dataset](https://www.kaggle.com/datasets/datamunge/sign-language-mnist)\n",
    "\n",
    "1. No cases for the letters J & Z (Reason: J & Z require motion)\n",
    "2. GrayScale Images\n",
    "3. Pixel Values Range From 0 to 255\n",
    "4. Each image contains 784 Pixels\n",
    "\n",
    "\n",
    "**Evaluation**\n",
    "\n",
    "Accuracy\n",
    "\n",
    "**Modelling**\n",
    "\n",
    "CNN"
   ]
  },
  {
   "cell_type": "markdown",
   "id": "83ec1c39",
   "metadata": {},
   "source": [
    "# Initial End-to-End Workflow (Start)"
   ]
  },
  {
   "cell_type": "code",
   "execution_count": 50,
   "id": "15daf294",
   "metadata": {},
   "outputs": [],
   "source": [
    "# Importing required libraries\n",
    "\n",
    "from sklearn.preprocessing import LabelBinarizer\n",
    "from tensorflow import keras\n",
    "from keras.utils import plot_model\n",
    "\n",
    "import tensorflow as tf\n",
    "import numpy as np\n",
    "import pandas as pd\n",
    "import matplotlib.pyplot as plt\n",
    "import pickle"
   ]
  },
  {
   "cell_type": "code",
   "execution_count": 51,
   "id": "dafa44b9",
   "metadata": {},
   "outputs": [],
   "source": [
    "# loading the training data (X+y)\n",
    "train_df = pd.read_csv('data/alphabet/sign_mnist_train.csv')"
   ]
  },
  {
   "cell_type": "code",
   "execution_count": 52,
   "id": "d7669304",
   "metadata": {},
   "outputs": [],
   "source": [
    "train_df = train_df.sample(frac=1, random_state=42) # Shuffiling the entire dataset"
   ]
  },
  {
   "cell_type": "code",
   "execution_count": 53,
   "id": "8269e216",
   "metadata": {},
   "outputs": [],
   "source": [
    "X, y = train_df.drop('label', axis=1), train_df['label'] # Split the dataset into X, y"
   ]
  },
  {
   "cell_type": "code",
   "execution_count": 54,
   "id": "8c2b3aa3",
   "metadata": {},
   "outputs": [
    {
     "data": {
      "text/plain": [
       "((27455, 784), (27455,))"
      ]
     },
     "execution_count": 54,
     "metadata": {},
     "output_type": "execute_result"
    }
   ],
   "source": [
    "X.shape, y.shape"
   ]
  },
  {
   "cell_type": "code",
   "execution_count": 55,
   "id": "da58cd49",
   "metadata": {},
   "outputs": [
    {
     "data": {
      "text/plain": [
       "(array([dtype('int64')], dtype=object), dtype('int64'))"
      ]
     },
     "execution_count": 55,
     "metadata": {},
     "output_type": "execute_result"
    }
   ],
   "source": [
    "np.unique(X.dtypes), y.dtype"
   ]
  },
  {
   "cell_type": "code",
   "execution_count": 56,
   "id": "22b62d7a",
   "metadata": {},
   "outputs": [],
   "source": [
    "label_binarizer = LabelBinarizer() # Binarize labels in a one-vs-all fashion (return one-hot encoded vectors)\n",
    "y = label_binarizer.fit_transform(y)"
   ]
  },
  {
   "cell_type": "code",
   "execution_count": 57,
   "id": "3cc4add2",
   "metadata": {},
   "outputs": [],
   "source": [
    "X = X/255.0 # Normalizing the training data and converting the data type to float"
   ]
  },
  {
   "cell_type": "code",
   "execution_count": 58,
   "id": "d6700a24",
   "metadata": {},
   "outputs": [
    {
     "data": {
      "text/plain": [
       "array([dtype('float64')], dtype=object)"
      ]
     },
     "execution_count": 58,
     "metadata": {},
     "output_type": "execute_result"
    }
   ],
   "source": [
    "np.unique(X.dtypes)"
   ]
  },
  {
   "cell_type": "code",
   "execution_count": 59,
   "id": "c9872eca",
   "metadata": {},
   "outputs": [],
   "source": [
    "# Converting the 1-D array of 784 pixels to (28, 28, 1) Image\n",
    "# (28, 28) represents the spatial dimensions of the image & 1 specifies that the image is grayscale\n",
    "X = tf.reshape(X, [-1, 28, 28, 1])"
   ]
  },
  {
   "cell_type": "code",
   "execution_count": 60,
   "id": "c6a7f19f",
   "metadata": {},
   "outputs": [
    {
     "data": {
      "text/plain": [
       "(TensorShape([27455, 28, 28, 1]), (27455, 24))"
      ]
     },
     "execution_count": 60,
     "metadata": {},
     "output_type": "execute_result"
    }
   ],
   "source": [
    "X.shape, y.shape"
   ]
  },
  {
   "cell_type": "code",
   "execution_count": 61,
   "id": "f950e21c",
   "metadata": {},
   "outputs": [],
   "source": [
    "# Generating a validation set\n",
    "\n",
    "X_train, X_valid = X[:25000], X[25000:]\n",
    "y_train, y_valid = y[:25000], y[25000:]"
   ]
  },
  {
   "cell_type": "code",
   "execution_count": 62,
   "id": "a51e4a80",
   "metadata": {},
   "outputs": [
    {
     "data": {
      "text/plain": [
       "tf.float64"
      ]
     },
     "execution_count": 62,
     "metadata": {},
     "output_type": "execute_result"
    }
   ],
   "source": [
    "X_train[0].dtype"
   ]
  },
  {
   "cell_type": "code",
   "execution_count": 63,
   "id": "f567ca9b",
   "metadata": {},
   "outputs": [
    {
     "data": {
      "text/plain": [
       "TensorShape([28, 28, 1])"
      ]
     },
     "execution_count": 63,
     "metadata": {},
     "output_type": "execute_result"
    }
   ],
   "source": [
    "X_train[0].shape"
   ]
  },
  {
   "cell_type": "code",
   "execution_count": 64,
   "id": "d2533d22",
   "metadata": {},
   "outputs": [
    {
     "data": {
      "text/plain": [
       "(<matplotlib.image.AxesImage at 0x20dd5c721d0>,\n",
       " array([0, 0, 0, 0, 0, 0, 0, 0, 0, 0, 0, 0, 0, 0, 0, 0, 0, 0, 0, 0, 0, 0,\n",
       "        0, 1]))"
      ]
     },
     "execution_count": 64,
     "metadata": {},
     "output_type": "execute_result"
    },
    {
     "data": {
      "image/png": "[encoded data removed]",
      "text/plain": [
       "<Figure size 640x480 with 1 Axes>"
      ]
     },
     "metadata": {},
     "output_type": "display_data"
    }
   ],
   "source": [
    "plt.imshow(X[0], cmap='gray'), y[0]"
   ]
  },
  {
   "cell_type": "code",
   "execution_count": 65,
   "id": "09046338",
   "metadata": {},
   "outputs": [],
   "source": [
    "# Defining the CNN\n",
    "\n",
    "model = keras.models.Sequential()\n",
    "model.add(keras.layers.Conv2D(32, (5, 5), padding='same', activation='relu', input_shape=(28, 28, 1)))\n",
    "model.add(keras.layers.MaxPooling2D(pool_size=(2, 2)))\n",
    "model.add(keras.layers.Conv2D(64, (5, 5), padding='same', activation='relu'))\n",
    "model.add(keras.layers.MaxPooling2D(pool_size=(2, 2)))\n",
    "model.add(keras.layers.Conv2D(128, (5, 5), padding='same', activation='relu'))\n",
    "model.add(keras.layers.MaxPooling2D(pool_size=(2, 2)))\n",
    "model.add(keras.layers.Flatten())\n",
    "model.add(keras.layers.Dense(128, activation='relu'))\n",
    "model.add(keras.layers.Dense(24, activation='softmax'))"
   ]
  },
  {
   "cell_type": "code",
   "execution_count": 66,
   "id": "333da112",
   "metadata": {
    "scrolled": true
   },
   "outputs": [
    {
     "name": "stdout",
     "output_type": "stream",
     "text": [
      "Model: \"sequential_7\"\n",
      "_________________________________________________________________\n",
      " Layer (type)                Output Shape              Param #   \n",
      "=================================================================\n",
      " conv2d_10 (Conv2D)          (None, 28, 28, 32)        832       \n",
      "                                                                 \n",
      " max_pooling2d_10 (MaxPoolin  (None, 14, 14, 32)       0         \n",
      " g2D)                                                            \n",
      "                                                                 \n",
      " conv2d_11 (Conv2D)          (None, 14, 14, 64)        51264     \n",
      "                                                                 \n",
      " max_pooling2d_11 (MaxPoolin  (None, 7, 7, 64)         0         \n",
      " g2D)                                                            \n",
      "                                                                 \n",
      " conv2d_12 (Conv2D)          (None, 7, 7, 128)         204928    \n",
      "                                                                 \n",
      " max_pooling2d_12 (MaxPoolin  (None, 3, 3, 128)        0         \n",
      " g2D)                                                            \n",
      "                                                                 \n",
      " flatten_5 (Flatten)         (None, 1152)              0         \n",
      "                                                                 \n",
      " dense_10 (Dense)            (None, 128)               147584    \n",
      "                                                                 \n",
      " dense_11 (Dense)            (None, 24)                3096      \n",
      "                                                                 \n",
      "=================================================================\n",
      "Total params: 407,704\n",
      "Trainable params: 407,704\n",
      "Non-trainable params: 0\n",
      "_________________________________________________________________\n"
     ]
    }
   ],
   "source": [
    "model.summary()"
   ]
  },
  {
   "cell_type": "code",
   "execution_count": 67,
   "id": "9acfb354",
   "metadata": {},
   "outputs": [],
   "source": [
    "model.compile(loss='categorical_crossentropy', optimizer='adam', metrics=['accuracy'])"
   ]
  },
  {
   "cell_type": "code",
   "execution_count": 68,
   "id": "f9ebd211",
   "metadata": {},
   "outputs": [],
   "source": [
    "save_best_cb = keras.callbacks.ModelCheckpoint('models/initial-end-to-end', save_best_only=True) # Saves the best model so far\n",
    "early_stopping_cb = keras.callbacks.EarlyStopping(patience=5) # Interupts training when there is no progress"
   ]
  },
  {
   "cell_type": "code",
   "execution_count": 69,
   "id": "4451f28a",
   "metadata": {
    "scrolled": true
   },
   "outputs": [
    {
     "name": "stdout",
     "output_type": "stream",
     "text": [
      "Epoch 1/20\n",
      "593/782 [=====================>........] - ETA: 13s - loss: 0.7398 - accuracy: 0.7714"
     ]
    },
    {
     "ename": "KeyboardInterrupt",
     "evalue": "",
     "output_type": "error",
     "traceback": [
      "\u001b[1;31m---------------------------------------------------------------------------\u001b[0m",
      "\u001b[1;31mKeyboardInterrupt\u001b[0m                         Traceback (most recent call last)",
      "Cell \u001b[1;32mIn[69], line 4\u001b[0m\n\u001b[0;32m      1\u001b[0m \u001b[39m# The model is same is 'models/initial-end-to-end'\u001b[39;00m\n\u001b[0;32m      2\u001b[0m \u001b[39m# The history object is 'models/initial-end-to-end-history'\u001b[39;00m\n\u001b[1;32m----> 4\u001b[0m history \u001b[39m=\u001b[39m model\u001b[39m.\u001b[39;49mfit(X_train, y_train, epochs\u001b[39m=\u001b[39;49m\u001b[39m20\u001b[39;49m, validation_data\u001b[39m=\u001b[39;49m(X_valid, y_valid), callbacks\u001b[39m=\u001b[39;49m[save_best_cb, early_stopping_cb])\n",
      "File \u001b[1;32mc:\\Python311\\Lib\\site-packages\\keras\\utils\\traceback_utils.py:65\u001b[0m, in \u001b[0;36mfilter_traceback.<locals>.error_handler\u001b[1;34m(*args, **kwargs)\u001b[0m\n\u001b[0;32m     63\u001b[0m filtered_tb \u001b[39m=\u001b[39m \u001b[39mNone\u001b[39;00m\n\u001b[0;32m     64\u001b[0m \u001b[39mtry\u001b[39;00m:\n\u001b[1;32m---> 65\u001b[0m     \u001b[39mreturn\u001b[39;00m fn(\u001b[39m*\u001b[39;49margs, \u001b[39m*\u001b[39;49m\u001b[39m*\u001b[39;49mkwargs)\n\u001b[0;32m     66\u001b[0m \u001b[39mexcept\u001b[39;00m \u001b[39mException\u001b[39;00m \u001b[39mas\u001b[39;00m e:\n\u001b[0;32m     67\u001b[0m     filtered_tb \u001b[39m=\u001b[39m _process_traceback_frames(e\u001b[39m.\u001b[39m__traceback__)\n",
      "File \u001b[1;32mc:\\Python311\\Lib\\site-packages\\keras\\engine\\training.py:1685\u001b[0m, in \u001b[0;36mModel.fit\u001b[1;34m(self, x, y, batch_size, epochs, verbose, callbacks, validation_split, validation_data, shuffle, class_weight, sample_weight, initial_epoch, steps_per_epoch, validation_steps, validation_batch_size, validation_freq, max_queue_size, workers, use_multiprocessing)\u001b[0m\n\u001b[0;32m   1677\u001b[0m \u001b[39mwith\u001b[39;00m tf\u001b[39m.\u001b[39mprofiler\u001b[39m.\u001b[39mexperimental\u001b[39m.\u001b[39mTrace(\n\u001b[0;32m   1678\u001b[0m     \u001b[39m\"\u001b[39m\u001b[39mtrain\u001b[39m\u001b[39m\"\u001b[39m,\n\u001b[0;32m   1679\u001b[0m     epoch_num\u001b[39m=\u001b[39mepoch,\n\u001b[1;32m   (...)\u001b[0m\n\u001b[0;32m   1682\u001b[0m     _r\u001b[39m=\u001b[39m\u001b[39m1\u001b[39m,\n\u001b[0;32m   1683\u001b[0m ):\n\u001b[0;32m   1684\u001b[0m     callbacks\u001b[39m.\u001b[39mon_train_batch_begin(step)\n\u001b[1;32m-> 1685\u001b[0m     tmp_logs \u001b[39m=\u001b[39m \u001b[39mself\u001b[39;49m\u001b[39m.\u001b[39;49mtrain_function(iterator)\n\u001b[0;32m   1686\u001b[0m     \u001b[39mif\u001b[39;00m data_handler\u001b[39m.\u001b[39mshould_sync:\n\u001b[0;32m   1687\u001b[0m         context\u001b[39m.\u001b[39masync_wait()\n",
      "File \u001b[1;32m~\\AppData\\Roaming\\Python\\Python311\\site-packages\\tensorflow\\python\\util\\traceback_utils.py:150\u001b[0m, in \u001b[0;36mfilter_traceback.<locals>.error_handler\u001b[1;34m(*args, **kwargs)\u001b[0m\n\u001b[0;32m    148\u001b[0m filtered_tb \u001b[39m=\u001b[39m \u001b[39mNone\u001b[39;00m\n\u001b[0;32m    149\u001b[0m \u001b[39mtry\u001b[39;00m:\n\u001b[1;32m--> 150\u001b[0m   \u001b[39mreturn\u001b[39;00m fn(\u001b[39m*\u001b[39;49margs, \u001b[39m*\u001b[39;49m\u001b[39m*\u001b[39;49mkwargs)\n\u001b[0;32m    151\u001b[0m \u001b[39mexcept\u001b[39;00m \u001b[39mException\u001b[39;00m \u001b[39mas\u001b[39;00m e:\n\u001b[0;32m    152\u001b[0m   filtered_tb \u001b[39m=\u001b[39m _process_traceback_frames(e\u001b[39m.\u001b[39m__traceback__)\n",
      "File \u001b[1;32m~\\AppData\\Roaming\\Python\\Python311\\site-packages\\tensorflow\\python\\eager\\polymorphic_function\\polymorphic_function.py:894\u001b[0m, in \u001b[0;36mFunction.__call__\u001b[1;34m(self, *args, **kwds)\u001b[0m\n\u001b[0;32m    891\u001b[0m compiler \u001b[39m=\u001b[39m \u001b[39m\"\u001b[39m\u001b[39mxla\u001b[39m\u001b[39m\"\u001b[39m \u001b[39mif\u001b[39;00m \u001b[39mself\u001b[39m\u001b[39m.\u001b[39m_jit_compile \u001b[39melse\u001b[39;00m \u001b[39m\"\u001b[39m\u001b[39mnonXla\u001b[39m\u001b[39m\"\u001b[39m\n\u001b[0;32m    893\u001b[0m \u001b[39mwith\u001b[39;00m OptionalXlaContext(\u001b[39mself\u001b[39m\u001b[39m.\u001b[39m_jit_compile):\n\u001b[1;32m--> 894\u001b[0m   result \u001b[39m=\u001b[39m \u001b[39mself\u001b[39;49m\u001b[39m.\u001b[39;49m_call(\u001b[39m*\u001b[39;49margs, \u001b[39m*\u001b[39;49m\u001b[39m*\u001b[39;49mkwds)\n\u001b[0;32m    896\u001b[0m new_tracing_count \u001b[39m=\u001b[39m \u001b[39mself\u001b[39m\u001b[39m.\u001b[39mexperimental_get_tracing_count()\n\u001b[0;32m    897\u001b[0m without_tracing \u001b[39m=\u001b[39m (tracing_count \u001b[39m==\u001b[39m new_tracing_count)\n",
      "File \u001b[1;32m~\\AppData\\Roaming\\Python\\Python311\\site-packages\\tensorflow\\python\\eager\\polymorphic_function\\polymorphic_function.py:926\u001b[0m, in \u001b[0;36mFunction._call\u001b[1;34m(self, *args, **kwds)\u001b[0m\n\u001b[0;32m    923\u001b[0m   \u001b[39mself\u001b[39m\u001b[39m.\u001b[39m_lock\u001b[39m.\u001b[39mrelease()\n\u001b[0;32m    924\u001b[0m   \u001b[39m# In this case we have created variables on the first call, so we run the\u001b[39;00m\n\u001b[0;32m    925\u001b[0m   \u001b[39m# defunned version which is guaranteed to never create variables.\u001b[39;00m\n\u001b[1;32m--> 926\u001b[0m   \u001b[39mreturn\u001b[39;00m \u001b[39mself\u001b[39;49m\u001b[39m.\u001b[39;49m_no_variable_creation_fn(\u001b[39m*\u001b[39;49margs, \u001b[39m*\u001b[39;49m\u001b[39m*\u001b[39;49mkwds)  \u001b[39m# pylint: disable=not-callable\u001b[39;00m\n\u001b[0;32m    927\u001b[0m \u001b[39melif\u001b[39;00m \u001b[39mself\u001b[39m\u001b[39m.\u001b[39m_variable_creation_fn \u001b[39mis\u001b[39;00m \u001b[39mnot\u001b[39;00m \u001b[39mNone\u001b[39;00m:\n\u001b[0;32m    928\u001b[0m   \u001b[39m# Release the lock early so that multiple threads can perform the call\u001b[39;00m\n\u001b[0;32m    929\u001b[0m   \u001b[39m# in parallel.\u001b[39;00m\n\u001b[0;32m    930\u001b[0m   \u001b[39mself\u001b[39m\u001b[39m.\u001b[39m_lock\u001b[39m.\u001b[39mrelease()\n",
      "File \u001b[1;32m~\\AppData\\Roaming\\Python\\Python311\\site-packages\\tensorflow\\python\\eager\\polymorphic_function\\tracing_compiler.py:143\u001b[0m, in \u001b[0;36mTracingCompiler.__call__\u001b[1;34m(self, *args, **kwargs)\u001b[0m\n\u001b[0;32m    140\u001b[0m \u001b[39mwith\u001b[39;00m \u001b[39mself\u001b[39m\u001b[39m.\u001b[39m_lock:\n\u001b[0;32m    141\u001b[0m   (concrete_function,\n\u001b[0;32m    142\u001b[0m    filtered_flat_args) \u001b[39m=\u001b[39m \u001b[39mself\u001b[39m\u001b[39m.\u001b[39m_maybe_define_function(args, kwargs)\n\u001b[1;32m--> 143\u001b[0m \u001b[39mreturn\u001b[39;00m concrete_function\u001b[39m.\u001b[39;49m_call_flat(\n\u001b[0;32m    144\u001b[0m     filtered_flat_args, captured_inputs\u001b[39m=\u001b[39;49mconcrete_function\u001b[39m.\u001b[39;49mcaptured_inputs)\n",
      "File \u001b[1;32m~\\AppData\\Roaming\\Python\\Python311\\site-packages\\tensorflow\\python\\eager\\polymorphic_function\\monomorphic_function.py:1757\u001b[0m, in \u001b[0;36mConcreteFunction._call_flat\u001b[1;34m(self, args, captured_inputs, cancellation_manager)\u001b[0m\n\u001b[0;32m   1753\u001b[0m possible_gradient_type \u001b[39m=\u001b[39m gradients_util\u001b[39m.\u001b[39mPossibleTapeGradientTypes(args)\n\u001b[0;32m   1754\u001b[0m \u001b[39mif\u001b[39;00m (possible_gradient_type \u001b[39m==\u001b[39m gradients_util\u001b[39m.\u001b[39mPOSSIBLE_GRADIENT_TYPES_NONE\n\u001b[0;32m   1755\u001b[0m     \u001b[39mand\u001b[39;00m executing_eagerly):\n\u001b[0;32m   1756\u001b[0m   \u001b[39m# No tape is watching; skip to running the function.\u001b[39;00m\n\u001b[1;32m-> 1757\u001b[0m   \u001b[39mreturn\u001b[39;00m \u001b[39mself\u001b[39m\u001b[39m.\u001b[39m_build_call_outputs(\u001b[39mself\u001b[39;49m\u001b[39m.\u001b[39;49m_inference_function\u001b[39m.\u001b[39;49mcall(\n\u001b[0;32m   1758\u001b[0m       ctx, args, cancellation_manager\u001b[39m=\u001b[39;49mcancellation_manager))\n\u001b[0;32m   1759\u001b[0m forward_backward \u001b[39m=\u001b[39m \u001b[39mself\u001b[39m\u001b[39m.\u001b[39m_select_forward_and_backward_functions(\n\u001b[0;32m   1760\u001b[0m     args,\n\u001b[0;32m   1761\u001b[0m     possible_gradient_type,\n\u001b[0;32m   1762\u001b[0m     executing_eagerly)\n\u001b[0;32m   1763\u001b[0m forward_function, args_with_tangents \u001b[39m=\u001b[39m forward_backward\u001b[39m.\u001b[39mforward()\n",
      "File \u001b[1;32m~\\AppData\\Roaming\\Python\\Python311\\site-packages\\tensorflow\\python\\eager\\polymorphic_function\\monomorphic_function.py:381\u001b[0m, in \u001b[0;36m_EagerDefinedFunction.call\u001b[1;34m(self, ctx, args, cancellation_manager)\u001b[0m\n\u001b[0;32m    379\u001b[0m \u001b[39mwith\u001b[39;00m _InterpolateFunctionError(\u001b[39mself\u001b[39m):\n\u001b[0;32m    380\u001b[0m   \u001b[39mif\u001b[39;00m cancellation_manager \u001b[39mis\u001b[39;00m \u001b[39mNone\u001b[39;00m:\n\u001b[1;32m--> 381\u001b[0m     outputs \u001b[39m=\u001b[39m execute\u001b[39m.\u001b[39;49mexecute(\n\u001b[0;32m    382\u001b[0m         \u001b[39mstr\u001b[39;49m(\u001b[39mself\u001b[39;49m\u001b[39m.\u001b[39;49msignature\u001b[39m.\u001b[39;49mname),\n\u001b[0;32m    383\u001b[0m         num_outputs\u001b[39m=\u001b[39;49m\u001b[39mself\u001b[39;49m\u001b[39m.\u001b[39;49m_num_outputs,\n\u001b[0;32m    384\u001b[0m         inputs\u001b[39m=\u001b[39;49margs,\n\u001b[0;32m    385\u001b[0m         attrs\u001b[39m=\u001b[39;49mattrs,\n\u001b[0;32m    386\u001b[0m         ctx\u001b[39m=\u001b[39;49mctx)\n\u001b[0;32m    387\u001b[0m   \u001b[39melse\u001b[39;00m:\n\u001b[0;32m    388\u001b[0m     outputs \u001b[39m=\u001b[39m execute\u001b[39m.\u001b[39mexecute_with_cancellation(\n\u001b[0;32m    389\u001b[0m         \u001b[39mstr\u001b[39m(\u001b[39mself\u001b[39m\u001b[39m.\u001b[39msignature\u001b[39m.\u001b[39mname),\n\u001b[0;32m    390\u001b[0m         num_outputs\u001b[39m=\u001b[39m\u001b[39mself\u001b[39m\u001b[39m.\u001b[39m_num_outputs,\n\u001b[1;32m   (...)\u001b[0m\n\u001b[0;32m    393\u001b[0m         ctx\u001b[39m=\u001b[39mctx,\n\u001b[0;32m    394\u001b[0m         cancellation_manager\u001b[39m=\u001b[39mcancellation_manager)\n",
      "File \u001b[1;32m~\\AppData\\Roaming\\Python\\Python311\\site-packages\\tensorflow\\python\\eager\\execute.py:52\u001b[0m, in \u001b[0;36mquick_execute\u001b[1;34m(op_name, num_outputs, inputs, attrs, ctx, name)\u001b[0m\n\u001b[0;32m     50\u001b[0m \u001b[39mtry\u001b[39;00m:\n\u001b[0;32m     51\u001b[0m   ctx\u001b[39m.\u001b[39mensure_initialized()\n\u001b[1;32m---> 52\u001b[0m   tensors \u001b[39m=\u001b[39m pywrap_tfe\u001b[39m.\u001b[39;49mTFE_Py_Execute(ctx\u001b[39m.\u001b[39;49m_handle, device_name, op_name,\n\u001b[0;32m     53\u001b[0m                                       inputs, attrs, num_outputs)\n\u001b[0;32m     54\u001b[0m \u001b[39mexcept\u001b[39;00m core\u001b[39m.\u001b[39m_NotOkStatusException \u001b[39mas\u001b[39;00m e:\n\u001b[0;32m     55\u001b[0m   \u001b[39mif\u001b[39;00m name \u001b[39mis\u001b[39;00m \u001b[39mnot\u001b[39;00m \u001b[39mNone\u001b[39;00m:\n",
      "\u001b[1;31mKeyboardInterrupt\u001b[0m: "
     ]
    }
   ],
   "source": [
    "# The model is same is 'models/initial-end-to-end'\n",
    "# The history object is 'models/initial-end-to-end-history'\n",
    "\n",
    "history = model.fit(X_train, y_train, epochs=20, validation_data=(X_valid, y_valid), callbacks=[save_best_cb, early_stopping_cb])"
   ]
  },
  {
   "cell_type": "code",
   "execution_count": null,
   "id": "c5e12a49",
   "metadata": {
    "scrolled": true
   },
   "outputs": [
    {
     "data": {
      "text/plain": [
       "{'loss': [0.7513841986656189,\n",
       "  0.02664635330438614,\n",
       "  0.022762881591916084,\n",
       "  0.010220699943602085,\n",
       "  0.00012576516019180417,\n",
       "  6.051814489183016e-05,\n",
       "  3.528659726725891e-05,\n",
       "  2.1571140678133816e-05,\n",
       "  1.3857513295079116e-05,\n",
       "  8.755312592256814e-06,\n",
       "  5.87734348300728e-06,\n",
       "  3.7233867260511033e-06,\n",
       "  2.4677576675458113e-06,\n",
       "  1.6568279761486338e-06,\n",
       "  1.0794689160320559e-06,\n",
       "  7.527679031227308e-07,\n",
       "  4.797810220225074e-07,\n",
       "  3.2828162943587813e-07,\n",
       "  2.0977452663828444e-07,\n",
       "  1.5246314433170483e-07],\n",
       " 'accuracy': [0.7666800022125244,\n",
       "  0.9937599897384644,\n",
       "  0.9936000108718872,\n",
       "  0.9973199963569641,\n",
       "  1.0,\n",
       "  1.0,\n",
       "  1.0,\n",
       "  1.0,\n",
       "  1.0,\n",
       "  1.0,\n",
       "  1.0,\n",
       "  1.0,\n",
       "  1.0,\n",
       "  1.0,\n",
       "  1.0,\n",
       "  1.0,\n",
       "  1.0,\n",
       "  1.0,\n",
       "  1.0,\n",
       "  1.0],\n",
       " 'val_loss': [0.05022267624735832,\n",
       "  0.0008405293920077384,\n",
       "  0.0955815389752388,\n",
       "  0.00023874384351074696,\n",
       "  0.00010830002429429442,\n",
       "  6.011408913764171e-05,\n",
       "  3.748569361050613e-05,\n",
       "  2.4087832571240142e-05,\n",
       "  1.6231379049713723e-05,\n",
       "  1.1084453035437036e-05,\n",
       "  7.3284368227177765e-06,\n",
       "  5.279685410641832e-06,\n",
       "  3.5085804483969696e-06,\n",
       "  2.9475061182893114e-06,\n",
       "  1.7632490880714613e-06,\n",
       "  1.5282447520803544e-06,\n",
       "  1.0736090416685329e-06,\n",
       "  1.3291170262164087e-06,\n",
       "  9.466526762480498e-07,\n",
       "  1.0072667464555707e-06],\n",
       " 'val_accuracy': [0.9914460182189941,\n",
       "  1.0,\n",
       "  0.9698574542999268,\n",
       "  1.0,\n",
       "  1.0,\n",
       "  1.0,\n",
       "  1.0,\n",
       "  1.0,\n",
       "  1.0,\n",
       "  1.0,\n",
       "  1.0,\n",
       "  1.0,\n",
       "  1.0,\n",
       "  1.0,\n",
       "  1.0,\n",
       "  1.0,\n",
       "  1.0,\n",
       "  1.0,\n",
       "  1.0,\n",
       "  1.0]}"
      ]
     },
     "execution_count": 21,
     "metadata": {},
     "output_type": "execute_result"
    }
   ],
   "source": [
    "history.history # Contains the training related information for each epoch"
   ]
  },
  {
   "cell_type": "code",
   "execution_count": null,
   "id": "c3aa7673",
   "metadata": {},
   "outputs": [],
   "source": [
    "# Saving the history object\n",
    "\n",
    "# with open('models/intial-end-to-end-history', 'wb') as history_file:\n",
    "#     pickle.dump(history.history, history_file)"
   ]
  },
  {
   "cell_type": "code",
   "execution_count": null,
   "id": "acc714c0",
   "metadata": {
    "scrolled": true
   },
   "outputs": [
    {
     "data": {
      "text/plain": [
       "{'loss': [0.8774073719978333,\n",
       "  0.005074513144791126,\n",
       "  0.0005907623562961817,\n",
       "  0.035671062767505646,\n",
       "  0.00012915894330944866,\n",
       "  6.119009776739404e-05,\n",
       "  3.5120148822898045e-05,\n",
       "  2.134285750798881e-05,\n",
       "  1.3638154086947907e-05,\n",
       "  8.999433703138493e-06,\n",
       "  5.808890364278341e-06,\n",
       "  3.864049176627304e-06,\n",
       "  2.576162614786881e-06,\n",
       "  1.7137577970061102e-06,\n",
       "  1.1716660992533434e-06,\n",
       "  7.670482204957807e-07,\n",
       "  5.091210937280266e-07,\n",
       "  3.424441104016296e-07,\n",
       "  2.2814701594597864e-07,\n",
       "  1.518342855888477e-07],\n",
       " 'accuracy': [0.7325999736785889,\n",
       "  0.9993600249290466,\n",
       "  1.0,\n",
       "  0.9892799854278564,\n",
       "  1.0,\n",
       "  1.0,\n",
       "  1.0,\n",
       "  1.0,\n",
       "  1.0,\n",
       "  1.0,\n",
       "  1.0,\n",
       "  1.0,\n",
       "  1.0,\n",
       "  1.0,\n",
       "  1.0,\n",
       "  1.0,\n",
       "  1.0,\n",
       "  1.0,\n",
       "  1.0,\n",
       "  1.0],\n",
       " 'val_loss': [0.02665344439446926,\n",
       "  0.0010351891396567225,\n",
       "  0.0004752879322040826,\n",
       "  0.00024525265325792134,\n",
       "  0.00010227379971183836,\n",
       "  5.5580920161446556e-05,\n",
       "  3.293823101557791e-05,\n",
       "  2.091940950776916e-05,\n",
       "  1.3808692528982647e-05,\n",
       "  8.840480404614937e-06,\n",
       "  5.666528068104526e-06,\n",
       "  3.9937822293723e-06,\n",
       "  2.64862956100842e-06,\n",
       "  1.8130501757696038e-06,\n",
       "  1.2420367738741334e-06,\n",
       "  8.05462889275077e-07,\n",
       "  5.323349228092411e-07,\n",
       "  4.007931124760944e-07,\n",
       "  2.907113696437591e-07,\n",
       "  1.6800919411252835e-07],\n",
       " 'val_accuracy': [0.9934827089309692,\n",
       "  1.0,\n",
       "  1.0,\n",
       "  1.0,\n",
       "  1.0,\n",
       "  1.0,\n",
       "  1.0,\n",
       "  1.0,\n",
       "  1.0,\n",
       "  1.0,\n",
       "  1.0,\n",
       "  1.0,\n",
       "  1.0,\n",
       "  1.0,\n",
       "  1.0,\n",
       "  1.0,\n",
       "  1.0,\n",
       "  1.0,\n",
       "  1.0,\n",
       "  1.0]}"
      ]
     },
     "execution_count": 23,
     "metadata": {},
     "output_type": "execute_result"
    }
   ],
   "source": [
    "h = np.load('models/intial-end-to-end-history', allow_pickle=True)\n",
    "h"
   ]
  },
  {
   "cell_type": "code",
   "execution_count": null,
   "id": "96517c3b",
   "metadata": {},
   "outputs": [],
   "source": [
    "best_model = keras.models.load_model('models/initial-end-to-end') # Model with best set of parameters not necessarily the model at the last epoch of training"
   ]
  },
  {
   "cell_type": "code",
   "execution_count": null,
   "id": "94301555",
   "metadata": {},
   "outputs": [
    {
     "data": {
      "text/plain": [
       "<matplotlib.legend.Legend at 0x20dae49c250>"
      ]
     },
     "execution_count": 26,
     "metadata": {},
     "output_type": "execute_result"
    },
    {
     "data": {
      "image/png": "[encoded data removed]",
      "text/plain": [
       "<Figure size 1000x500 with 1 Axes>"
      ]
     },
     "metadata": {},
     "output_type": "display_data"
    }
   ],
   "source": [
    "fig, ax = plt.subplots(figsize=(10, 5))\n",
    "n_epochs = len(h['loss'])\n",
    "ax.plot(range(1, n_epochs+1), h['loss'], color='b', label='train_loss')\n",
    "ax.plot(range(1, n_epochs+1), h['val_loss'], color='c', label='val_loss')\n",
    "ax.plot(range(1, n_epochs+1), h['accuracy'], color='b', label='train_accuracy', linestyle='--')\n",
    "ax.plot(range(1, n_epochs+1), h['val_accuracy'], color='c', label='val_accuracy', linestyle='--')\n",
    "ax.set_xticks(range(1, n_epochs+1))\n",
    "ax.legend()"
   ]
  },
  {
   "cell_type": "code",
   "execution_count": null,
   "id": "1cceeb24",
   "metadata": {},
   "outputs": [
    {
     "data": {
      "text/plain": [
       "<matplotlib.legend.Legend at 0x20dada74950>"
      ]
     },
     "execution_count": 27,
     "metadata": {},
     "output_type": "execute_result"
    },
    {
     "data": {
      "image/png": "[encoded data removed]",
      "text/plain": [
       "<Figure size 1000x500 with 1 Axes>"
      ]
     },
     "metadata": {},
     "output_type": "display_data"
    }
   ],
   "source": [
    "# Training Loss Correction\n",
    "\n",
    "fig, ax = plt.subplots(figsize=(10, 5))\n",
    "n_epochs = len(h['loss'])\n",
    "\n",
    "# Shift training loss by 0.5 as training loss is measured during the epoch and validation loss is measured after the epoch\n",
    "\n",
    "x_loss = np.arange(n_epochs+1)-0.5\n",
    "ax.plot(x_loss[x_loss >= 0], h['loss'], color='b', label='train_loss')\n",
    "ax.plot(range(1, n_epochs+1), h['val_loss'], color='r', label='val_loss')\n",
    "ax.plot(range(1, n_epochs+1), h['accuracy'], color='b', label='train_accuracy', linestyle='--')\n",
    "ax.plot(range(1, n_epochs+1), h['val_accuracy'], color='r', label='val_accuracy', linestyle='--')\n",
    "ax.set_xlim(0, n_epochs)\n",
    "ax.set_xticks(range(1, n_epochs+1))\n",
    "ax.legend()"
   ]
  },
  {
   "cell_type": "code",
   "execution_count": null,
   "id": "b7e5d4b0",
   "metadata": {},
   "outputs": [],
   "source": [
    "# Defining a function the get the training and validation plots representing the accuracy and loss at each epoch\n",
    "\n",
    "def get_train_val_plots(h, yticks=None, figsize=(10, 5)):\n",
    "    # h: Any dictionary like the history.history\n",
    "    \n",
    "    fig, ax = plt.subplots(figsize=figsize)\n",
    "    n_epochs = len(h['loss'])\n",
    "    x_loss = np.arange(n_epochs+1)-0.5\n",
    "    \n",
    "    ax.plot(x_loss[x_loss >= 0], h['loss'], color='b', label='train_loss')\n",
    "    ax.plot(range(1, n_epochs+1), h['val_loss'], color='r', label='val_loss')\n",
    "    ax.plot(range(1, n_epochs+1), h['accuracy'], color='b', label='train_accuracy', linestyle='--')\n",
    "    ax.plot(range(1, n_epochs+1), h['val_accuracy'], color='r', label='val_accuracy', linestyle='--')\n",
    "    ax.set_xlim(0, n_epochs)\n",
    "    ax.set_xticks(range(1, n_epochs+1))\n",
    "    if yticks is not None:\n",
    "        ax.set_yticks(yticks)\n",
    "    ax.legend()"
   ]
  },
  {
   "cell_type": "code",
   "execution_count": null,
   "id": "6f1885f7",
   "metadata": {},
   "outputs": [
    {
     "data": {
      "image/png": "[encoded data removed]",
      "text/plain": [
       "<Figure size 1000x500 with 1 Axes>"
      ]
     },
     "metadata": {},
     "output_type": "display_data"
    }
   ],
   "source": [
    "get_train_val_plots(h)"
   ]
  },
  {
   "cell_type": "code",
   "execution_count": null,
   "id": "aadf9622",
   "metadata": {},
   "outputs": [],
   "source": [
    "test_df = pd.read_csv('data/alphabet/sign_mnist_test.csv') # Load the test data"
   ]
  },
  {
   "cell_type": "code",
   "execution_count": null,
   "id": "c22ee404",
   "metadata": {},
   "outputs": [],
   "source": [
    "X_test, y_test = test_df.drop('label', axis=1), test_df['label']"
   ]
  },
  {
   "cell_type": "code",
   "execution_count": null,
   "id": "50fcf741",
   "metadata": {},
   "outputs": [],
   "source": [
    "X_test = tf.reshape(X_test, [-1, 28, 28, 1])"
   ]
  },
  {
   "cell_type": "code",
   "execution_count": null,
   "id": "04d31bf4",
   "metadata": {},
   "outputs": [],
   "source": [
    "y_test = label_binarizer.transform(y_test)"
   ]
  },
  {
   "cell_type": "code",
   "execution_count": null,
   "id": "4c761190",
   "metadata": {
    "scrolled": true
   },
   "outputs": [
    {
     "name": "stdout",
     "output_type": "stream",
     "text": [
      "225/225 [==============================] - 5s 19ms/step - loss: 123.5888 - accuracy: 0.9399\n"
     ]
    },
    {
     "data": {
      "text/plain": [
       "[123.58880615234375, 0.9399051666259766]"
      ]
     },
     "execution_count": 34,
     "metadata": {},
     "output_type": "execute_result"
    }
   ],
   "source": [
    "best_model.evaluate(X_test, y_test)"
   ]
  },
  {
   "cell_type": "markdown",
   "id": "9085b7ff",
   "metadata": {},
   "source": [
    "Accuracy: 94%"
   ]
  },
  {
   "cell_type": "code",
   "execution_count": null,
   "id": "685402ff",
   "metadata": {},
   "outputs": [],
   "source": [
    "# Preprocesses the input and evaluates the model\n",
    "\n",
    "def evaluate_model(model, X_test, y_test, label_binarizer):\n",
    "    X_test_reshape = tf.reshape(X_test, [-1, 28, 28, 1])\n",
    "    y_test_labels = label_binarizer.transform(y_test)\n",
    "    results = model.evaluate(X_test_reshape, y_test_labels)\n",
    "    print(f'Loss: {results[0]:.3f} Accuracy: {results[1]:.3f}')"
   ]
  },
  {
   "cell_type": "code",
   "execution_count": null,
   "id": "af272eed",
   "metadata": {},
   "outputs": [
    {
     "name": "stdout",
     "output_type": "stream",
     "text": [
      "225/225 [==============================] - 4s 20ms/step - loss: 123.5888 - accuracy: 0.9399\n",
      "Loss: 123.589 Accuracy: 0.940\n"
     ]
    }
   ],
   "source": [
    "results = evaluate_model(best_model, test_df.drop('label', axis=1), test_df['label'], label_binarizer)"
   ]
  },
  {
   "cell_type": "markdown",
   "id": "3edb545c",
   "metadata": {},
   "source": [
    "## Converting Images to a Sentence"
   ]
  },
  {
   "cell_type": "code",
   "execution_count": null,
   "id": "70c6d7cf",
   "metadata": {},
   "outputs": [],
   "source": [
    "test_df = pd.read_csv('data/alphabet/sign_mnist_test.csv') # Load the test data"
   ]
  },
  {
   "cell_type": "code",
   "execution_count": null,
   "id": "fcf80126",
   "metadata": {},
   "outputs": [],
   "source": [
    "X_test, y_test = test_df.drop('label', axis=1), test_df['label']"
   ]
  },
  {
   "cell_type": "code",
   "execution_count": null,
   "id": "c01b2e70",
   "metadata": {},
   "outputs": [],
   "source": [
    "X_test = tf.reshape(X_test, [-1, 28, 28, 1])"
   ]
  },
  {
   "cell_type": "code",
   "execution_count": null,
   "id": "92beca5f",
   "metadata": {},
   "outputs": [],
   "source": [
    "d = {chr(ord('a') + i):i for i in range(26)}\n",
    "d_rev = {i:chr(ord('a') + i) for i in range(26)}\n",
    "d[' '] = d_rev[' '] = ' '"
   ]
  },
  {
   "cell_type": "code",
   "execution_count": null,
   "id": "4e7518e4",
   "metadata": {},
   "outputs": [
    {
     "name": "stdout",
     "output_type": "stream",
     "text": [
      "18 8 6 13   11 0 13 6 20 0 6 4 "
     ]
    }
   ],
   "source": [
    "sentence = 'sign language'\n",
    "\n",
    "for i in sentence:\n",
    "    print(d[i], end=' ')"
   ]
  },
  {
   "cell_type": "code",
   "execution_count": null,
   "id": "4f429ea0",
   "metadata": {},
   "outputs": [
    {
     "name": "stdout",
     "output_type": "stream",
     "text": [
      "1/1 [==============================] - 0s 134ms/step\n"
     ]
    },
    {
     "data": {
      "text/plain": [
       "array([[0., 0., 0., 0., 0., 0., 1., 0., 0., 0., 0., 0., 0., 0., 0., 0.,\n",
       "        0., 0., 0., 0., 0., 0., 0., 0.]], dtype=float32)"
      ]
     },
     "execution_count": 42,
     "metadata": {},
     "output_type": "execute_result"
    }
   ],
   "source": [
    "best_model.predict(tf.reshape(X_test[0], [-1, 28, 28, 1]))"
   ]
  },
  {
   "cell_type": "code",
   "execution_count": null,
   "id": "2f09fb2d",
   "metadata": {},
   "outputs": [
    {
     "name": "stdout",
     "output_type": "stream",
     "text": [
      "1/1 [==============================] - 0s 24ms/step\n",
      "1/1 [==============================] - 0s 35ms/step\n",
      "1/1 [==============================] - 0s 25ms/step\n",
      "1/1 [==============================] - 0s 25ms/step\n",
      "1/1 [==============================] - 0s 20ms/step\n",
      "1/1 [==============================] - 0s 25ms/step\n",
      "1/1 [==============================] - 0s 24ms/step\n",
      "1/1 [==============================] - 0s 36ms/step\n",
      "1/1 [==============================] - 0s 24ms/step\n",
      "1/1 [==============================] - 0s 26ms/step\n",
      "1/1 [==============================] - 0s 24ms/step\n",
      "1/1 [==============================] - 0s 33ms/step\n",
      "sign lauquage\n"
     ]
    }
   ],
   "source": [
    "images_taken = []\n",
    "result = ''\n",
    "\n",
    "for i in sentence:\n",
    "    if i != ' ':\n",
    "        char_index = np.random.choice(y_test[y_test==ord(i)-ord('a')].index)\n",
    "        images_taken.append(char_index)\n",
    "        y_pred = best_model.predict(tf.reshape(X_test[char_index], [-1, 28, 28, 1]))\n",
    "        result += d_rev[label_binarizer.inverse_transform(y_pred)[0]]\n",
    "    else:\n",
    "        result += ' '\n",
    "print(result)"
   ]
  },
  {
   "cell_type": "code",
   "execution_count": null,
   "id": "f19190d7",
   "metadata": {
    "scrolled": false
   },
   "outputs": [
    {
     "data": {
      "image/png": "[encoded data removed]",
      "text/plain": [
       "<Figure size 2000x2000 with 4 Axes>"
      ]
     },
     "metadata": {},
     "output_type": "display_data"
    },
    {
     "data": {
      "image/png": "[encoded data removed]",
      "text/plain": [
       "<Figure size 2000x2000 with 8 Axes>"
      ]
     },
     "metadata": {},
     "output_type": "display_data"
    }
   ],
   "source": [
    "# Visualizing the test images\n",
    "images_taken_dup = list(reversed(images_taken))\n",
    "for word in sentence.split():\n",
    "    fig, ax = plt.subplots(1, len(word), figsize=(20, 20))\n",
    "    for i in range(len(word)):\n",
    "        ax[i].imshow(X_test[images_taken_dup.pop()], cmap='gray')\n",
    "        ax[i].set_title(word[i])"
   ]
  },
  {
   "cell_type": "code",
   "execution_count": null,
   "id": "fd0be37f",
   "metadata": {},
   "outputs": [],
   "source": [
    "def test_on_sentence(model, sentence, X_test, y_test, label_binarizer, figsize=(20, 20)):\n",
    "    # Random images are taken from X_test along with the corresponding labels in y_test\n",
    "    # based on the letters in the sentence.\n",
    "    # These images are fed to the model and its output is printed\n",
    "    \n",
    "    sentence = sentence.lower()\n",
    "    \n",
    "    d = {chr(ord('a') + i):i for i in range(26)}\n",
    "    d_rev = {i:chr(ord('a') + i) for i in range(26)}\n",
    "    d[' '] = d_rev[' '] = ' '\n",
    "    \n",
    "    \n",
    "    images_taken = []\n",
    "    result = ''\n",
    "    \n",
    "    X_test_reshape = tf.reshape(X_test, [-1, 28, 28, 1])\n",
    "    \n",
    "\n",
    "    for i in sentence:\n",
    "        if i != ' ':\n",
    "            char_index = np.random.choice(y_test[y_test==ord(i)-ord('a')].index)\n",
    "            images_taken.append(char_index)\n",
    "            y_pred = model.predict(tf.reshape(X_test_reshape[char_index], [1, 28, 28, 1]))\n",
    "            result += d_rev[label_binarizer.inverse_transform(y_pred)[0]]\n",
    "        else:\n",
    "            result += ' '\n",
    "            \n",
    "    print(f'The actual sentence is \"{sentence}\"')\n",
    "    print(f'The predicted sentence is \"{result}\"')\n",
    "        \n",
    "    images_taken.reverse()\n",
    "    for word in sentence.split():\n",
    "        fig, ax = plt.subplots(1, len(word), figsize=figsize)\n",
    "        for i in range(len(word)):\n",
    "            ax[i].imshow(X_test_reshape[images_taken.pop()], cmap='gray')\n",
    "            ax[i].set_title(word[i])"
   ]
  },
  {
   "cell_type": "code",
   "execution_count": null,
   "id": "d8c07946",
   "metadata": {},
   "outputs": [
    {
     "name": "stdout",
     "output_type": "stream",
     "text": [
      "1/1 [==============================] - 0s 16ms/step\n",
      "1/1 [==============================] - 0s 24ms/step\n",
      "1/1 [==============================] - 0s 38ms/step\n",
      "1/1 [==============================] - 0s 26ms/step\n",
      "1/1 [==============================] - 0s 33ms/step\n",
      "1/1 [==============================] - 0s 35ms/step\n",
      "1/1 [==============================] - 0s 42ms/step\n",
      "1/1 [==============================] - 0s 21ms/step\n",
      "1/1 [==============================] - 0s 24ms/step\n",
      "1/1 [==============================] - 0s 17ms/step\n",
      "1/1 [==============================] - 0s 22ms/step\n",
      "1/1 [==============================] - 0s 32ms/step\n",
      "The actual sentence is \"sign language\"\n",
      "The predicted sentence is \"sign language\"\n"
     ]
    },
    {
     "data": {
      "image/png": "[encoded data removed]",
      "text/plain": [
       "<Figure size 2000x2000 with 4 Axes>"
      ]
     },
     "metadata": {},
     "output_type": "display_data"
    },
    {
     "data": {
      "image/png": "[encoded data removed]",
      "text/plain": [
       "<Figure size 2000x2000 with 8 Axes>"
      ]
     },
     "metadata": {},
     "output_type": "display_data"
    }
   ],
   "source": [
    "test_on_sentence(best_model, 'sign language', test_df.drop('label', axis=1), test_df['label'], label_binarizer)"
   ]
  },
  {
   "cell_type": "markdown",
   "id": "d9b0ecea",
   "metadata": {},
   "source": [
    "# Initial End-to-End Workflow (End)"
   ]
  },
  {
   "cell_type": "markdown",
   "id": "b127a589",
   "metadata": {},
   "source": [
    "# Hyperparameter Tuning"
   ]
  },
  {
   "cell_type": "markdown",
   "id": "2d26fb0e",
   "metadata": {},
   "source": [
    "1. Convolution and Max Pooling Pairs\n",
    "2. Filters in the convolution layers\n",
    "3. Filter Shape\n",
    "4. Dropout"
   ]
  },
  {
   "cell_type": "markdown",
   "id": "393e2a7f",
   "metadata": {},
   "source": [
    "## Convolution and Max Pooling Pairs"
   ]
  },
  {
   "cell_type": "markdown",
   "id": "640290aa",
   "metadata": {},
   "source": [
    "Before flattening\n",
    "\n",
    "\n",
    "1. For pair = 1 -> Output to the dense layer will be of the shape `(None, 14, 14, 32)`\n",
    "2. For pair = 2 -> Output to the dense layer will be of the shape `(None, 7, 7, 64)`\n",
    "3. For pair = 3 -> Output to the dense layer will be of the shape `(None, 3, 3, 96)`\n",
    "4. For pair = 4 -> Output to the dense layer will be of the shape `(None, 1, 1, 128)`\n",
    "\n",
    "As the output shape rapidly decreases for the pair = 4 it is better to choose among the pair = 1, 2 or 3"
   ]
  },
  {
   "cell_type": "code",
   "execution_count": null,
   "id": "1f392588",
   "metadata": {},
   "outputs": [],
   "source": [
    "# 20% Validation Split\n",
    "\n",
    "X_train, X_valid = X[:19500], X[19500:]\n",
    "y_train, y_valid = y[:19500], y[19500:]"
   ]
  },
  {
   "cell_type": "code",
   "execution_count": 70,
   "id": "e5583291",
   "metadata": {
    "scrolled": true
   },
   "outputs": [
    {
     "name": "stdout",
     "output_type": "stream",
     "text": [
      "Epoch 1/15\n",
      "780/782 [============================>.] - ETA: 0s - loss: 1.0823 - accuracy: 0.7009"
     ]
    },
    {
     "name": "stderr",
     "output_type": "stream",
     "text": [
      "WARNING:absl:Found untraced functions such as _jit_compiled_convolution_op, _update_step_xla while saving (showing 2 of 2). These functions will not be directly callable after loading.\n"
     ]
    },
    {
     "name": "stdout",
     "output_type": "stream",
     "text": [
      "INFO:tensorflow:Assets written to: models\\experiment-1-1\\assets\n"
     ]
    },
    {
     "name": "stderr",
     "output_type": "stream",
     "text": [
      "INFO:tensorflow:Assets written to: models\\experiment-1-1\\assets\n"
     ]
    },
    {
     "name": "stdout",
     "output_type": "stream",
     "text": [
      "782/782 [==============================] - 18s 23ms/step - loss: 1.0809 - accuracy: 0.7013 - val_loss: 0.2630 - val_accuracy: 0.9401\n",
      "Epoch 2/15\n",
      "780/782 [============================>.] - ETA: 0s - loss: 0.1126 - accuracy: 0.9823"
     ]
    },
    {
     "name": "stderr",
     "output_type": "stream",
     "text": [
      "WARNING:absl:Found untraced functions such as _jit_compiled_convolution_op, _update_step_xla while saving (showing 2 of 2). These functions will not be directly callable after loading.\n"
     ]
    },
    {
     "name": "stdout",
     "output_type": "stream",
     "text": [
      "INFO:tensorflow:Assets written to: models\\experiment-1-1\\assets\n"
     ]
    },
    {
     "name": "stderr",
     "output_type": "stream",
     "text": [
      "INFO:tensorflow:Assets written to: models\\experiment-1-1\\assets\n"
     ]
    },
    {
     "name": "stdout",
     "output_type": "stream",
     "text": [
      "782/782 [==============================] - 19s 25ms/step - loss: 0.1125 - accuracy: 0.9823 - val_loss: 0.0413 - val_accuracy: 0.9988\n",
      "Epoch 3/15\n",
      "781/782 [============================>.] - ETA: 0s - loss: 0.0208 - accuracy: 0.9998"
     ]
    },
    {
     "name": "stderr",
     "output_type": "stream",
     "text": [
      "WARNING:absl:Found untraced functions such as _jit_compiled_convolution_op, _update_step_xla while saving (showing 2 of 2). These functions will not be directly callable after loading.\n"
     ]
    },
    {
     "name": "stdout",
     "output_type": "stream",
     "text": [
      "INFO:tensorflow:Assets written to: models\\experiment-1-1\\assets\n"
     ]
    },
    {
     "name": "stderr",
     "output_type": "stream",
     "text": [
      "INFO:tensorflow:Assets written to: models\\experiment-1-1\\assets\n"
     ]
    },
    {
     "name": "stdout",
     "output_type": "stream",
     "text": [
      "782/782 [==============================] - 23s 30ms/step - loss: 0.0208 - accuracy: 0.9998 - val_loss: 0.0147 - val_accuracy: 1.0000\n",
      "Epoch 4/15\n",
      "782/782 [==============================] - ETA: 0s - loss: 0.0072 - accuracy: 1.0000"
     ]
    },
    {
     "name": "stderr",
     "output_type": "stream",
     "text": [
      "WARNING:absl:Found untraced functions such as _jit_compiled_convolution_op, _update_step_xla while saving (showing 2 of 2). These functions will not be directly callable after loading.\n"
     ]
    },
    {
     "name": "stdout",
     "output_type": "stream",
     "text": [
      "INFO:tensorflow:Assets written to: models\\experiment-1-1\\assets\n"
     ]
    },
    {
     "name": "stderr",
     "output_type": "stream",
     "text": [
      "INFO:tensorflow:Assets written to: models\\experiment-1-1\\assets\n"
     ]
    },
    {
     "name": "stdout",
     "output_type": "stream",
     "text": [
      "782/782 [==============================] - 17s 22ms/step - loss: 0.0072 - accuracy: 1.0000 - val_loss: 0.0056 - val_accuracy: 1.0000\n",
      "Epoch 5/15\n",
      "782/782 [==============================] - ETA: 0s - loss: 0.0032 - accuracy: 1.0000"
     ]
    },
    {
     "name": "stderr",
     "output_type": "stream",
     "text": [
      "WARNING:absl:Found untraced functions such as _jit_compiled_convolution_op, _update_step_xla while saving (showing 2 of 2). These functions will not be directly callable after loading.\n"
     ]
    },
    {
     "name": "stdout",
     "output_type": "stream",
     "text": [
      "INFO:tensorflow:Assets written to: models\\experiment-1-1\\assets\n"
     ]
    },
    {
     "name": "stderr",
     "output_type": "stream",
     "text": [
      "INFO:tensorflow:Assets written to: models\\experiment-1-1\\assets\n"
     ]
    },
    {
     "name": "stdout",
     "output_type": "stream",
     "text": [
      "782/782 [==============================] - 18s 23ms/step - loss: 0.0032 - accuracy: 1.0000 - val_loss: 0.0022 - val_accuracy: 1.0000\n",
      "Epoch 6/15\n",
      "780/782 [============================>.] - ETA: 0s - loss: 0.0016 - accuracy: 1.0000"
     ]
    },
    {
     "name": "stderr",
     "output_type": "stream",
     "text": [
      "WARNING:absl:Found untraced functions such as _jit_compiled_convolution_op, _update_step_xla while saving (showing 2 of 2). These functions will not be directly callable after loading.\n"
     ]
    },
    {
     "name": "stdout",
     "output_type": "stream",
     "text": [
      "INFO:tensorflow:Assets written to: models\\experiment-1-1\\assets\n"
     ]
    },
    {
     "name": "stderr",
     "output_type": "stream",
     "text": [
      "INFO:tensorflow:Assets written to: models\\experiment-1-1\\assets\n"
     ]
    },
    {
     "name": "stdout",
     "output_type": "stream",
     "text": [
      "782/782 [==============================] - 18s 23ms/step - loss: 0.0016 - accuracy: 1.0000 - val_loss: 0.0013 - val_accuracy: 1.0000\n",
      "Epoch 7/15\n",
      "782/782 [==============================] - 18s 23ms/step - loss: 8.8782e-04 - accuracy: 1.0000 - val_loss: 0.0014 - val_accuracy: 1.0000\n",
      "Epoch 8/15\n",
      "780/782 [============================>.] - ETA: 0s - loss: 5.9311e-04 - accuracy: 1.0000"
     ]
    },
    {
     "name": "stderr",
     "output_type": "stream",
     "text": [
      "WARNING:absl:Found untraced functions such as _jit_compiled_convolution_op, _update_step_xla while saving (showing 2 of 2). These functions will not be directly callable after loading.\n"
     ]
    },
    {
     "name": "stdout",
     "output_type": "stream",
     "text": [
      "INFO:tensorflow:Assets written to: models\\experiment-1-1\\assets\n"
     ]
    },
    {
     "name": "stderr",
     "output_type": "stream",
     "text": [
      "INFO:tensorflow:Assets written to: models\\experiment-1-1\\assets\n"
     ]
    },
    {
     "name": "stdout",
     "output_type": "stream",
     "text": [
      "782/782 [==============================] - 18s 23ms/step - loss: 5.9283e-04 - accuracy: 1.0000 - val_loss: 4.7892e-04 - val_accuracy: 1.0000\n",
      "Epoch 9/15\n",
      "782/782 [==============================] - 17s 22ms/step - loss: 0.0175 - accuracy: 0.9952 - val_loss: 0.1744 - val_accuracy: 0.9446\n",
      "Epoch 10/15\n",
      "782/782 [==============================] - 17s 22ms/step - loss: 0.0081 - accuracy: 0.9979 - val_loss: 5.9679e-04 - val_accuracy: 1.0000\n",
      "Epoch 11/15\n",
      "781/782 [============================>.] - ETA: 0s - loss: 3.7807e-04 - accuracy: 1.0000"
     ]
    },
    {
     "name": "stderr",
     "output_type": "stream",
     "text": [
      "WARNING:absl:Found untraced functions such as _jit_compiled_convolution_op, _update_step_xla while saving (showing 2 of 2). These functions will not be directly callable after loading.\n"
     ]
    },
    {
     "name": "stdout",
     "output_type": "stream",
     "text": [
      "INFO:tensorflow:Assets written to: models\\experiment-1-1\\assets\n"
     ]
    },
    {
     "name": "stderr",
     "output_type": "stream",
     "text": [
      "INFO:tensorflow:Assets written to: models\\experiment-1-1\\assets\n"
     ]
    },
    {
     "name": "stdout",
     "output_type": "stream",
     "text": [
      "782/782 [==============================] - 17s 21ms/step - loss: 3.7800e-04 - accuracy: 1.0000 - val_loss: 3.6284e-04 - val_accuracy: 1.0000\n",
      "Epoch 12/15\n",
      "782/782 [==============================] - ETA: 0s - loss: 2.4127e-04 - accuracy: 1.0000"
     ]
    },
    {
     "name": "stderr",
     "output_type": "stream",
     "text": [
      "WARNING:absl:Found untraced functions such as _jit_compiled_convolution_op, _update_step_xla while saving (showing 2 of 2). These functions will not be directly callable after loading.\n"
     ]
    },
    {
     "name": "stdout",
     "output_type": "stream",
     "text": [
      "INFO:tensorflow:Assets written to: models\\experiment-1-1\\assets\n"
     ]
    },
    {
     "name": "stderr",
     "output_type": "stream",
     "text": [
      "INFO:tensorflow:Assets written to: models\\experiment-1-1\\assets\n"
     ]
    },
    {
     "name": "stdout",
     "output_type": "stream",
     "text": [
      "782/782 [==============================] - 17s 22ms/step - loss: 2.4127e-04 - accuracy: 1.0000 - val_loss: 2.3621e-04 - val_accuracy: 1.0000\n",
      "Epoch 13/15\n",
      "781/782 [============================>.] - ETA: 0s - loss: 1.6747e-04 - accuracy: 1.0000"
     ]
    },
    {
     "name": "stderr",
     "output_type": "stream",
     "text": [
      "WARNING:absl:Found untraced functions such as _jit_compiled_convolution_op, _update_step_xla while saving (showing 2 of 2). These functions will not be directly callable after loading.\n"
     ]
    },
    {
     "name": "stdout",
     "output_type": "stream",
     "text": [
      "INFO:tensorflow:Assets written to: models\\experiment-1-1\\assets\n"
     ]
    },
    {
     "name": "stderr",
     "output_type": "stream",
     "text": [
      "INFO:tensorflow:Assets written to: models\\experiment-1-1\\assets\n"
     ]
    },
    {
     "name": "stdout",
     "output_type": "stream",
     "text": [
      "782/782 [==============================] - 18s 24ms/step - loss: 1.6742e-04 - accuracy: 1.0000 - val_loss: 1.7823e-04 - val_accuracy: 1.0000\n",
      "Epoch 14/15\n",
      "780/782 [============================>.] - ETA: 0s - loss: 1.2312e-04 - accuracy: 1.0000"
     ]
    },
    {
     "name": "stderr",
     "output_type": "stream",
     "text": [
      "WARNING:absl:Found untraced functions such as _jit_compiled_convolution_op, _update_step_xla while saving (showing 2 of 2). These functions will not be directly callable after loading.\n"
     ]
    },
    {
     "name": "stdout",
     "output_type": "stream",
     "text": [
      "INFO:tensorflow:Assets written to: models\\experiment-1-1\\assets\n"
     ]
    },
    {
     "name": "stderr",
     "output_type": "stream",
     "text": [
      "INFO:tensorflow:Assets written to: models\\experiment-1-1\\assets\n"
     ]
    },
    {
     "name": "stdout",
     "output_type": "stream",
     "text": [
      "782/782 [==============================] - 18s 23ms/step - loss: 1.2323e-04 - accuracy: 1.0000 - val_loss: 1.3736e-04 - val_accuracy: 1.0000\n",
      "Epoch 15/15\n",
      "781/782 [============================>.] - ETA: 0s - loss: 9.3549e-05 - accuracy: 1.0000"
     ]
    },
    {
     "name": "stderr",
     "output_type": "stream",
     "text": [
      "WARNING:absl:Found untraced functions such as _jit_compiled_convolution_op, _update_step_xla while saving (showing 2 of 2). These functions will not be directly callable after loading.\n"
     ]
    },
    {
     "name": "stdout",
     "output_type": "stream",
     "text": [
      "INFO:tensorflow:Assets written to: models\\experiment-1-1\\assets\n"
     ]
    },
    {
     "name": "stderr",
     "output_type": "stream",
     "text": [
      "INFO:tensorflow:Assets written to: models\\experiment-1-1\\assets\n"
     ]
    },
    {
     "name": "stdout",
     "output_type": "stream",
     "text": [
      "782/782 [==============================] - 19s 24ms/step - loss: 9.3543e-05 - accuracy: 1.0000 - val_loss: 1.0053e-04 - val_accuracy: 1.0000\n",
      "Epoch 1/15\n",
      "781/782 [============================>.] - ETA: 0s - loss: 0.7120 - accuracy: 0.7879"
     ]
    },
    {
     "name": "stderr",
     "output_type": "stream",
     "text": [
      "WARNING:absl:Found untraced functions such as _jit_compiled_convolution_op, _jit_compiled_convolution_op, _update_step_xla while saving (showing 3 of 3). These functions will not be directly callable after loading.\n"
     ]
    },
    {
     "name": "stdout",
     "output_type": "stream",
     "text": [
      "INFO:tensorflow:Assets written to: models\\experiment-1-2\\assets\n"
     ]
    },
    {
     "name": "stderr",
     "output_type": "stream",
     "text": [
      "INFO:tensorflow:Assets written to: models\\experiment-1-2\\assets\n"
     ]
    },
    {
     "name": "stdout",
     "output_type": "stream",
     "text": [
      "782/782 [==============================] - 39s 49ms/step - loss: 0.7118 - accuracy: 0.7879 - val_loss: 0.0646 - val_accuracy: 0.9804\n",
      "Epoch 2/15\n",
      "781/782 [============================>.] - ETA: 0s - loss: 0.0143 - accuracy: 0.9979"
     ]
    },
    {
     "name": "stderr",
     "output_type": "stream",
     "text": [
      "WARNING:absl:Found untraced functions such as _jit_compiled_convolution_op, _jit_compiled_convolution_op, _update_step_xla while saving (showing 3 of 3). These functions will not be directly callable after loading.\n"
     ]
    },
    {
     "name": "stdout",
     "output_type": "stream",
     "text": [
      "INFO:tensorflow:Assets written to: models\\experiment-1-2\\assets\n"
     ]
    },
    {
     "name": "stderr",
     "output_type": "stream",
     "text": [
      "INFO:tensorflow:Assets written to: models\\experiment-1-2\\assets\n"
     ]
    },
    {
     "name": "stdout",
     "output_type": "stream",
     "text": [
      "782/782 [==============================] - 46s 59ms/step - loss: 0.0147 - accuracy: 0.9978 - val_loss: 0.0188 - val_accuracy: 0.9959\n",
      "Epoch 3/15\n",
      "781/782 [============================>.] - ETA: 0s - loss: 0.0177 - accuracy: 0.9960"
     ]
    },
    {
     "name": "stderr",
     "output_type": "stream",
     "text": [
      "WARNING:absl:Found untraced functions such as _jit_compiled_convolution_op, _jit_compiled_convolution_op, _update_step_xla while saving (showing 3 of 3). These functions will not be directly callable after loading.\n"
     ]
    },
    {
     "name": "stdout",
     "output_type": "stream",
     "text": [
      "INFO:tensorflow:Assets written to: models\\experiment-1-2\\assets\n"
     ]
    },
    {
     "name": "stderr",
     "output_type": "stream",
     "text": [
      "INFO:tensorflow:Assets written to: models\\experiment-1-2\\assets\n"
     ]
    },
    {
     "name": "stdout",
     "output_type": "stream",
     "text": [
      "782/782 [==============================] - 43s 55ms/step - loss: 0.0177 - accuracy: 0.9960 - val_loss: 8.5504e-04 - val_accuracy: 1.0000\n",
      "Epoch 4/15\n",
      "781/782 [============================>.] - ETA: 0s - loss: 4.5014e-04 - accuracy: 1.0000"
     ]
    },
    {
     "name": "stderr",
     "output_type": "stream",
     "text": [
      "WARNING:absl:Found untraced functions such as _jit_compiled_convolution_op, _jit_compiled_convolution_op, _update_step_xla while saving (showing 3 of 3). These functions will not be directly callable after loading.\n"
     ]
    },
    {
     "name": "stdout",
     "output_type": "stream",
     "text": [
      "INFO:tensorflow:Assets written to: models\\experiment-1-2\\assets\n"
     ]
    },
    {
     "name": "stderr",
     "output_type": "stream",
     "text": [
      "INFO:tensorflow:Assets written to: models\\experiment-1-2\\assets\n"
     ]
    },
    {
     "name": "stdout",
     "output_type": "stream",
     "text": [
      "782/782 [==============================] - 40s 51ms/step - loss: 4.5013e-04 - accuracy: 1.0000 - val_loss: 3.8859e-04 - val_accuracy: 1.0000\n",
      "Epoch 5/15\n",
      "781/782 [============================>.] - ETA: 0s - loss: 2.3041e-04 - accuracy: 1.0000"
     ]
    },
    {
     "name": "stderr",
     "output_type": "stream",
     "text": [
      "WARNING:absl:Found untraced functions such as _jit_compiled_convolution_op, _jit_compiled_convolution_op, _update_step_xla while saving (showing 3 of 3). These functions will not be directly callable after loading.\n"
     ]
    },
    {
     "name": "stdout",
     "output_type": "stream",
     "text": [
      "INFO:tensorflow:Assets written to: models\\experiment-1-2\\assets\n"
     ]
    },
    {
     "name": "stderr",
     "output_type": "stream",
     "text": [
      "INFO:tensorflow:Assets written to: models\\experiment-1-2\\assets\n"
     ]
    },
    {
     "name": "stdout",
     "output_type": "stream",
     "text": [
      "782/782 [==============================] - 38s 48ms/step - loss: 2.3036e-04 - accuracy: 1.0000 - val_loss: 2.1279e-04 - val_accuracy: 1.0000\n",
      "Epoch 6/15\n",
      "782/782 [==============================] - ETA: 0s - loss: 1.3613e-04 - accuracy: 1.0000"
     ]
    },
    {
     "name": "stderr",
     "output_type": "stream",
     "text": [
      "WARNING:absl:Found untraced functions such as _jit_compiled_convolution_op, _jit_compiled_convolution_op, _update_step_xla while saving (showing 3 of 3). These functions will not be directly callable after loading.\n"
     ]
    },
    {
     "name": "stdout",
     "output_type": "stream",
     "text": [
      "INFO:tensorflow:Assets written to: models\\experiment-1-2\\assets\n"
     ]
    },
    {
     "name": "stderr",
     "output_type": "stream",
     "text": [
      "INFO:tensorflow:Assets written to: models\\experiment-1-2\\assets\n"
     ]
    },
    {
     "name": "stdout",
     "output_type": "stream",
     "text": [
      "782/782 [==============================] - 42s 54ms/step - loss: 1.3613e-04 - accuracy: 1.0000 - val_loss: 1.3712e-04 - val_accuracy: 1.0000\n",
      "Epoch 7/15\n",
      "782/782 [==============================] - ETA: 0s - loss: 8.4872e-05 - accuracy: 1.0000"
     ]
    },
    {
     "name": "stderr",
     "output_type": "stream",
     "text": [
      "WARNING:absl:Found untraced functions such as _jit_compiled_convolution_op, _jit_compiled_convolution_op, _update_step_xla while saving (showing 3 of 3). These functions will not be directly callable after loading.\n"
     ]
    },
    {
     "name": "stdout",
     "output_type": "stream",
     "text": [
      "INFO:tensorflow:Assets written to: models\\experiment-1-2\\assets\n"
     ]
    },
    {
     "name": "stderr",
     "output_type": "stream",
     "text": [
      "INFO:tensorflow:Assets written to: models\\experiment-1-2\\assets\n"
     ]
    },
    {
     "name": "stdout",
     "output_type": "stream",
     "text": [
      "782/782 [==============================] - 40s 51ms/step - loss: 8.4872e-05 - accuracy: 1.0000 - val_loss: 7.8103e-05 - val_accuracy: 1.0000\n",
      "Epoch 8/15\n",
      "781/782 [============================>.] - ETA: 0s - loss: 5.1978e-05 - accuracy: 1.0000"
     ]
    },
    {
     "name": "stderr",
     "output_type": "stream",
     "text": [
      "WARNING:absl:Found untraced functions such as _jit_compiled_convolution_op, _jit_compiled_convolution_op, _update_step_xla while saving (showing 3 of 3). These functions will not be directly callable after loading.\n"
     ]
    },
    {
     "name": "stdout",
     "output_type": "stream",
     "text": [
      "INFO:tensorflow:Assets written to: models\\experiment-1-2\\assets\n"
     ]
    },
    {
     "name": "stderr",
     "output_type": "stream",
     "text": [
      "INFO:tensorflow:Assets written to: models\\experiment-1-2\\assets\n"
     ]
    },
    {
     "name": "stdout",
     "output_type": "stream",
     "text": [
      "782/782 [==============================] - 38s 48ms/step - loss: 5.1964e-05 - accuracy: 1.0000 - val_loss: 4.7047e-05 - val_accuracy: 1.0000\n",
      "Epoch 9/15\n",
      "782/782 [==============================] - ETA: 0s - loss: 3.2766e-05 - accuracy: 1.0000"
     ]
    },
    {
     "name": "stderr",
     "output_type": "stream",
     "text": [
      "WARNING:absl:Found untraced functions such as _jit_compiled_convolution_op, _jit_compiled_convolution_op, _update_step_xla while saving (showing 3 of 3). These functions will not be directly callable after loading.\n"
     ]
    },
    {
     "name": "stdout",
     "output_type": "stream",
     "text": [
      "INFO:tensorflow:Assets written to: models\\experiment-1-2\\assets\n"
     ]
    },
    {
     "name": "stderr",
     "output_type": "stream",
     "text": [
      "INFO:tensorflow:Assets written to: models\\experiment-1-2\\assets\n"
     ]
    },
    {
     "name": "stdout",
     "output_type": "stream",
     "text": [
      "782/782 [==============================] - 39s 50ms/step - loss: 3.2766e-05 - accuracy: 1.0000 - val_loss: 3.1301e-05 - val_accuracy: 1.0000\n",
      "Epoch 10/15\n",
      "781/782 [============================>.] - ETA: 0s - loss: 2.1518e-05 - accuracy: 1.0000"
     ]
    },
    {
     "name": "stderr",
     "output_type": "stream",
     "text": [
      "WARNING:absl:Found untraced functions such as _jit_compiled_convolution_op, _jit_compiled_convolution_op, _update_step_xla while saving (showing 3 of 3). These functions will not be directly callable after loading.\n"
     ]
    },
    {
     "name": "stdout",
     "output_type": "stream",
     "text": [
      "INFO:tensorflow:Assets written to: models\\experiment-1-2\\assets\n"
     ]
    },
    {
     "name": "stderr",
     "output_type": "stream",
     "text": [
      "INFO:tensorflow:Assets written to: models\\experiment-1-2\\assets\n"
     ]
    },
    {
     "name": "stdout",
     "output_type": "stream",
     "text": [
      "782/782 [==============================] - 39s 50ms/step - loss: 2.1514e-05 - accuracy: 1.0000 - val_loss: 1.9379e-05 - val_accuracy: 1.0000\n",
      "Epoch 11/15\n",
      "782/782 [==============================] - ETA: 0s - loss: 1.3222e-05 - accuracy: 1.0000"
     ]
    },
    {
     "name": "stderr",
     "output_type": "stream",
     "text": [
      "WARNING:absl:Found untraced functions such as _jit_compiled_convolution_op, _jit_compiled_convolution_op, _update_step_xla while saving (showing 3 of 3). These functions will not be directly callable after loading.\n"
     ]
    },
    {
     "name": "stdout",
     "output_type": "stream",
     "text": [
      "INFO:tensorflow:Assets written to: models\\experiment-1-2\\assets\n"
     ]
    },
    {
     "name": "stderr",
     "output_type": "stream",
     "text": [
      "INFO:tensorflow:Assets written to: models\\experiment-1-2\\assets\n"
     ]
    },
    {
     "name": "stdout",
     "output_type": "stream",
     "text": [
      "782/782 [==============================] - 39s 50ms/step - loss: 1.3222e-05 - accuracy: 1.0000 - val_loss: 1.2970e-05 - val_accuracy: 1.0000\n",
      "Epoch 12/15\n",
      "782/782 [==============================] - ETA: 0s - loss: 8.7497e-06 - accuracy: 1.0000"
     ]
    },
    {
     "name": "stderr",
     "output_type": "stream",
     "text": [
      "WARNING:absl:Found untraced functions such as _jit_compiled_convolution_op, _jit_compiled_convolution_op, _update_step_xla while saving (showing 3 of 3). These functions will not be directly callable after loading.\n"
     ]
    },
    {
     "name": "stdout",
     "output_type": "stream",
     "text": [
      "INFO:tensorflow:Assets written to: models\\experiment-1-2\\assets\n"
     ]
    },
    {
     "name": "stderr",
     "output_type": "stream",
     "text": [
      "INFO:tensorflow:Assets written to: models\\experiment-1-2\\assets\n"
     ]
    },
    {
     "name": "stdout",
     "output_type": "stream",
     "text": [
      "782/782 [==============================] - 48s 61ms/step - loss: 8.7497e-06 - accuracy: 1.0000 - val_loss: 8.5914e-06 - val_accuracy: 1.0000\n",
      "Epoch 13/15\n",
      "781/782 [============================>.] - ETA: 0s - loss: 5.5695e-06 - accuracy: 1.0000"
     ]
    },
    {
     "name": "stderr",
     "output_type": "stream",
     "text": [
      "WARNING:absl:Found untraced functions such as _jit_compiled_convolution_op, _jit_compiled_convolution_op, _update_step_xla while saving (showing 3 of 3). These functions will not be directly callable after loading.\n"
     ]
    },
    {
     "name": "stdout",
     "output_type": "stream",
     "text": [
      "INFO:tensorflow:Assets written to: models\\experiment-1-2\\assets\n"
     ]
    },
    {
     "name": "stderr",
     "output_type": "stream",
     "text": [
      "INFO:tensorflow:Assets written to: models\\experiment-1-2\\assets\n"
     ]
    },
    {
     "name": "stdout",
     "output_type": "stream",
     "text": [
      "782/782 [==============================] - 40s 52ms/step - loss: 5.5685e-06 - accuracy: 1.0000 - val_loss: 5.4153e-06 - val_accuracy: 1.0000\n",
      "Epoch 14/15\n",
      "782/782 [==============================] - ETA: 0s - loss: 3.6933e-06 - accuracy: 1.0000"
     ]
    },
    {
     "name": "stderr",
     "output_type": "stream",
     "text": [
      "WARNING:absl:Found untraced functions such as _jit_compiled_convolution_op, _jit_compiled_convolution_op, _update_step_xla while saving (showing 3 of 3). These functions will not be directly callable after loading.\n"
     ]
    },
    {
     "name": "stdout",
     "output_type": "stream",
     "text": [
      "INFO:tensorflow:Assets written to: models\\experiment-1-2\\assets\n"
     ]
    },
    {
     "name": "stderr",
     "output_type": "stream",
     "text": [
      "INFO:tensorflow:Assets written to: models\\experiment-1-2\\assets\n"
     ]
    },
    {
     "name": "stdout",
     "output_type": "stream",
     "text": [
      "782/782 [==============================] - 39s 50ms/step - loss: 3.6933e-06 - accuracy: 1.0000 - val_loss: 4.2179e-06 - val_accuracy: 1.0000\n",
      "Epoch 15/15\n",
      "781/782 [============================>.] - ETA: 0s - loss: 2.3734e-06 - accuracy: 1.0000"
     ]
    },
    {
     "name": "stderr",
     "output_type": "stream",
     "text": [
      "WARNING:absl:Found untraced functions such as _jit_compiled_convolution_op, _jit_compiled_convolution_op, _update_step_xla while saving (showing 3 of 3). These functions will not be directly callable after loading.\n"
     ]
    },
    {
     "name": "stdout",
     "output_type": "stream",
     "text": [
      "INFO:tensorflow:Assets written to: models\\experiment-1-2\\assets\n"
     ]
    },
    {
     "name": "stderr",
     "output_type": "stream",
     "text": [
      "INFO:tensorflow:Assets written to: models\\experiment-1-2\\assets\n"
     ]
    },
    {
     "name": "stdout",
     "output_type": "stream",
     "text": [
      "782/782 [==============================] - 38s 49ms/step - loss: 2.3731e-06 - accuracy: 1.0000 - val_loss: 2.6454e-06 - val_accuracy: 1.0000\n",
      "Epoch 1/15\n",
      "781/782 [============================>.] - ETA: 0s - loss: 0.8801 - accuracy: 0.7298"
     ]
    },
    {
     "name": "stderr",
     "output_type": "stream",
     "text": [
      "WARNING:absl:Found untraced functions such as _jit_compiled_convolution_op, _jit_compiled_convolution_op, _jit_compiled_convolution_op, _update_step_xla while saving (showing 4 of 4). These functions will not be directly callable after loading.\n"
     ]
    },
    {
     "name": "stdout",
     "output_type": "stream",
     "text": [
      "INFO:tensorflow:Assets written to: models\\experiment-1-3\\assets\n"
     ]
    },
    {
     "name": "stderr",
     "output_type": "stream",
     "text": [
      "INFO:tensorflow:Assets written to: models\\experiment-1-3\\assets\n"
     ]
    },
    {
     "name": "stdout",
     "output_type": "stream",
     "text": [
      "782/782 [==============================] - 54s 68ms/step - loss: 0.8798 - accuracy: 0.7299 - val_loss: 0.0551 - val_accuracy: 0.9853\n",
      "Epoch 2/15\n",
      "782/782 [==============================] - 51s 65ms/step - loss: 0.0284 - accuracy: 0.9934 - val_loss: 0.0718 - val_accuracy: 0.9800\n",
      "Epoch 3/15\n",
      "781/782 [============================>.] - ETA: 0s - loss: 0.0020 - accuracy: 0.9997"
     ]
    },
    {
     "name": "stderr",
     "output_type": "stream",
     "text": [
      "WARNING:absl:Found untraced functions such as _jit_compiled_convolution_op, _jit_compiled_convolution_op, _jit_compiled_convolution_op, _update_step_xla while saving (showing 4 of 4). These functions will not be directly callable after loading.\n"
     ]
    },
    {
     "name": "stdout",
     "output_type": "stream",
     "text": [
      "INFO:tensorflow:Assets written to: models\\experiment-1-3\\assets\n"
     ]
    },
    {
     "name": "stderr",
     "output_type": "stream",
     "text": [
      "INFO:tensorflow:Assets written to: models\\experiment-1-3\\assets\n"
     ]
    },
    {
     "name": "stdout",
     "output_type": "stream",
     "text": [
      "782/782 [==============================] - 51s 65ms/step - loss: 0.0020 - accuracy: 0.9997 - val_loss: 2.6870e-04 - val_accuracy: 1.0000\n",
      "Epoch 4/15\n",
      "781/782 [============================>.] - ETA: 0s - loss: 1.6512e-04 - accuracy: 1.0000"
     ]
    },
    {
     "name": "stderr",
     "output_type": "stream",
     "text": [
      "WARNING:absl:Found untraced functions such as _jit_compiled_convolution_op, _jit_compiled_convolution_op, _jit_compiled_convolution_op, _update_step_xla while saving (showing 4 of 4). These functions will not be directly callable after loading.\n"
     ]
    },
    {
     "name": "stdout",
     "output_type": "stream",
     "text": [
      "INFO:tensorflow:Assets written to: models\\experiment-1-3\\assets\n"
     ]
    },
    {
     "name": "stderr",
     "output_type": "stream",
     "text": [
      "INFO:tensorflow:Assets written to: models\\experiment-1-3\\assets\n"
     ]
    },
    {
     "name": "stdout",
     "output_type": "stream",
     "text": [
      "782/782 [==============================] - 53s 67ms/step - loss: 1.6522e-04 - accuracy: 1.0000 - val_loss: 1.2752e-04 - val_accuracy: 1.0000\n",
      "Epoch 5/15\n",
      "781/782 [============================>.] - ETA: 0s - loss: 9.3319e-05 - accuracy: 1.0000"
     ]
    },
    {
     "name": "stderr",
     "output_type": "stream",
     "text": [
      "WARNING:absl:Found untraced functions such as _jit_compiled_convolution_op, _jit_compiled_convolution_op, _jit_compiled_convolution_op, _update_step_xla while saving (showing 4 of 4). These functions will not be directly callable after loading.\n"
     ]
    },
    {
     "name": "stdout",
     "output_type": "stream",
     "text": [
      "INFO:tensorflow:Assets written to: models\\experiment-1-3\\assets\n"
     ]
    },
    {
     "name": "stderr",
     "output_type": "stream",
     "text": [
      "INFO:tensorflow:Assets written to: models\\experiment-1-3\\assets\n"
     ]
    },
    {
     "name": "stdout",
     "output_type": "stream",
     "text": [
      "782/782 [==============================] - 54s 69ms/step - loss: 9.3294e-05 - accuracy: 1.0000 - val_loss: 1.0386e-04 - val_accuracy: 1.0000\n",
      "Epoch 6/15\n",
      "781/782 [============================>.] - ETA: 0s - loss: 5.7120e-05 - accuracy: 1.0000"
     ]
    },
    {
     "name": "stderr",
     "output_type": "stream",
     "text": [
      "WARNING:absl:Found untraced functions such as _jit_compiled_convolution_op, _jit_compiled_convolution_op, _jit_compiled_convolution_op, _update_step_xla while saving (showing 4 of 4). These functions will not be directly callable after loading.\n"
     ]
    },
    {
     "name": "stdout",
     "output_type": "stream",
     "text": [
      "INFO:tensorflow:Assets written to: models\\experiment-1-3\\assets\n"
     ]
    },
    {
     "name": "stderr",
     "output_type": "stream",
     "text": [
      "INFO:tensorflow:Assets written to: models\\experiment-1-3\\assets\n"
     ]
    },
    {
     "name": "stdout",
     "output_type": "stream",
     "text": [
      "782/782 [==============================] - 56s 72ms/step - loss: 5.7102e-05 - accuracy: 1.0000 - val_loss: 5.4195e-05 - val_accuracy: 1.0000\n",
      "Epoch 7/15\n",
      "781/782 [============================>.] - ETA: 0s - loss: 3.6817e-05 - accuracy: 1.0000"
     ]
    },
    {
     "name": "stderr",
     "output_type": "stream",
     "text": [
      "WARNING:absl:Found untraced functions such as _jit_compiled_convolution_op, _jit_compiled_convolution_op, _jit_compiled_convolution_op, _update_step_xla while saving (showing 4 of 4). These functions will not be directly callable after loading.\n"
     ]
    },
    {
     "name": "stdout",
     "output_type": "stream",
     "text": [
      "INFO:tensorflow:Assets written to: models\\experiment-1-3\\assets\n"
     ]
    },
    {
     "name": "stderr",
     "output_type": "stream",
     "text": [
      "INFO:tensorflow:Assets written to: models\\experiment-1-3\\assets\n"
     ]
    },
    {
     "name": "stdout",
     "output_type": "stream",
     "text": [
      "782/782 [==============================] - 51s 66ms/step - loss: 3.6815e-05 - accuracy: 1.0000 - val_loss: 2.9967e-05 - val_accuracy: 1.0000\n",
      "Epoch 8/15\n",
      "781/782 [============================>.] - ETA: 0s - loss: 2.3013e-05 - accuracy: 1.0000"
     ]
    },
    {
     "name": "stderr",
     "output_type": "stream",
     "text": [
      "WARNING:absl:Found untraced functions such as _jit_compiled_convolution_op, _jit_compiled_convolution_op, _jit_compiled_convolution_op, _update_step_xla while saving (showing 4 of 4). These functions will not be directly callable after loading.\n"
     ]
    },
    {
     "name": "stdout",
     "output_type": "stream",
     "text": [
      "INFO:tensorflow:Assets written to: models\\experiment-1-3\\assets\n"
     ]
    },
    {
     "name": "stderr",
     "output_type": "stream",
     "text": [
      "INFO:tensorflow:Assets written to: models\\experiment-1-3\\assets\n"
     ]
    },
    {
     "name": "stdout",
     "output_type": "stream",
     "text": [
      "782/782 [==============================] - 50s 64ms/step - loss: 2.3016e-05 - accuracy: 1.0000 - val_loss: 1.9198e-05 - val_accuracy: 1.0000\n",
      "Epoch 9/15\n",
      "781/782 [============================>.] - ETA: 0s - loss: 1.5311e-05 - accuracy: 1.0000"
     ]
    },
    {
     "name": "stderr",
     "output_type": "stream",
     "text": [
      "WARNING:absl:Found untraced functions such as _jit_compiled_convolution_op, _jit_compiled_convolution_op, _jit_compiled_convolution_op, _update_step_xla while saving (showing 4 of 4). These functions will not be directly callable after loading.\n"
     ]
    },
    {
     "name": "stdout",
     "output_type": "stream",
     "text": [
      "INFO:tensorflow:Assets written to: models\\experiment-1-3\\assets\n"
     ]
    },
    {
     "name": "stderr",
     "output_type": "stream",
     "text": [
      "INFO:tensorflow:Assets written to: models\\experiment-1-3\\assets\n"
     ]
    },
    {
     "name": "stdout",
     "output_type": "stream",
     "text": [
      "782/782 [==============================] - 51s 65ms/step - loss: 1.5308e-05 - accuracy: 1.0000 - val_loss: 1.3803e-05 - val_accuracy: 1.0000\n",
      "Epoch 10/15\n",
      "781/782 [============================>.] - ETA: 0s - loss: 9.6590e-06 - accuracy: 1.0000"
     ]
    },
    {
     "name": "stderr",
     "output_type": "stream",
     "text": [
      "WARNING:absl:Found untraced functions such as _jit_compiled_convolution_op, _jit_compiled_convolution_op, _jit_compiled_convolution_op, _update_step_xla while saving (showing 4 of 4). These functions will not be directly callable after loading.\n"
     ]
    },
    {
     "name": "stdout",
     "output_type": "stream",
     "text": [
      "INFO:tensorflow:Assets written to: models\\experiment-1-3\\assets\n"
     ]
    },
    {
     "name": "stderr",
     "output_type": "stream",
     "text": [
      "INFO:tensorflow:Assets written to: models\\experiment-1-3\\assets\n"
     ]
    },
    {
     "name": "stdout",
     "output_type": "stream",
     "text": [
      "782/782 [==============================] - 55s 70ms/step - loss: 9.6581e-06 - accuracy: 1.0000 - val_loss: 1.2964e-05 - val_accuracy: 1.0000\n",
      "Epoch 11/15\n",
      "781/782 [============================>.] - ETA: 0s - loss: 6.3676e-06 - accuracy: 1.0000"
     ]
    },
    {
     "name": "stderr",
     "output_type": "stream",
     "text": [
      "WARNING:absl:Found untraced functions such as _jit_compiled_convolution_op, _jit_compiled_convolution_op, _jit_compiled_convolution_op, _update_step_xla while saving (showing 4 of 4). These functions will not be directly callable after loading.\n"
     ]
    },
    {
     "name": "stdout",
     "output_type": "stream",
     "text": [
      "INFO:tensorflow:Assets written to: models\\experiment-1-3\\assets\n"
     ]
    },
    {
     "name": "stderr",
     "output_type": "stream",
     "text": [
      "INFO:tensorflow:Assets written to: models\\experiment-1-3\\assets\n"
     ]
    },
    {
     "name": "stdout",
     "output_type": "stream",
     "text": [
      "782/782 [==============================] - 55s 71ms/step - loss: 6.3680e-06 - accuracy: 1.0000 - val_loss: 5.4460e-06 - val_accuracy: 1.0000\n",
      "Epoch 12/15\n",
      "781/782 [============================>.] - ETA: 0s - loss: 4.2946e-06 - accuracy: 1.0000"
     ]
    },
    {
     "name": "stderr",
     "output_type": "stream",
     "text": [
      "WARNING:absl:Found untraced functions such as _jit_compiled_convolution_op, _jit_compiled_convolution_op, _jit_compiled_convolution_op, _update_step_xla while saving (showing 4 of 4). These functions will not be directly callable after loading.\n"
     ]
    },
    {
     "name": "stdout",
     "output_type": "stream",
     "text": [
      "INFO:tensorflow:Assets written to: models\\experiment-1-3\\assets\n"
     ]
    },
    {
     "name": "stderr",
     "output_type": "stream",
     "text": [
      "INFO:tensorflow:Assets written to: models\\experiment-1-3\\assets\n"
     ]
    },
    {
     "name": "stdout",
     "output_type": "stream",
     "text": [
      "782/782 [==============================] - 56s 71ms/step - loss: 4.2933e-06 - accuracy: 1.0000 - val_loss: 3.9535e-06 - val_accuracy: 1.0000\n",
      "Epoch 13/15\n",
      "781/782 [============================>.] - ETA: 0s - loss: 2.6353e-06 - accuracy: 1.0000"
     ]
    },
    {
     "name": "stderr",
     "output_type": "stream",
     "text": [
      "WARNING:absl:Found untraced functions such as _jit_compiled_convolution_op, _jit_compiled_convolution_op, _jit_compiled_convolution_op, _update_step_xla while saving (showing 4 of 4). These functions will not be directly callable after loading.\n"
     ]
    },
    {
     "name": "stdout",
     "output_type": "stream",
     "text": [
      "INFO:tensorflow:Assets written to: models\\experiment-1-3\\assets\n"
     ]
    },
    {
     "name": "stderr",
     "output_type": "stream",
     "text": [
      "INFO:tensorflow:Assets written to: models\\experiment-1-3\\assets\n"
     ]
    },
    {
     "name": "stdout",
     "output_type": "stream",
     "text": [
      "782/782 [==============================] - 56s 71ms/step - loss: 2.6348e-06 - accuracy: 1.0000 - val_loss: 2.9039e-06 - val_accuracy: 1.0000\n",
      "Epoch 14/15\n",
      "781/782 [============================>.] - ETA: 0s - loss: 1.7569e-06 - accuracy: 1.0000"
     ]
    },
    {
     "name": "stderr",
     "output_type": "stream",
     "text": [
      "WARNING:absl:Found untraced functions such as _jit_compiled_convolution_op, _jit_compiled_convolution_op, _jit_compiled_convolution_op, _update_step_xla while saving (showing 4 of 4). These functions will not be directly callable after loading.\n"
     ]
    },
    {
     "name": "stdout",
     "output_type": "stream",
     "text": [
      "INFO:tensorflow:Assets written to: models\\experiment-1-3\\assets\n"
     ]
    },
    {
     "name": "stderr",
     "output_type": "stream",
     "text": [
      "INFO:tensorflow:Assets written to: models\\experiment-1-3\\assets\n"
     ]
    },
    {
     "name": "stdout",
     "output_type": "stream",
     "text": [
      "782/782 [==============================] - 55s 70ms/step - loss: 1.7564e-06 - accuracy: 1.0000 - val_loss: 1.5682e-06 - val_accuracy: 1.0000\n",
      "Epoch 15/15\n",
      "781/782 [============================>.] - ETA: 0s - loss: 1.1732e-06 - accuracy: 1.0000"
     ]
    },
    {
     "name": "stderr",
     "output_type": "stream",
     "text": [
      "WARNING:absl:Found untraced functions such as _jit_compiled_convolution_op, _jit_compiled_convolution_op, _jit_compiled_convolution_op, _update_step_xla while saving (showing 4 of 4). These functions will not be directly callable after loading.\n"
     ]
    },
    {
     "name": "stdout",
     "output_type": "stream",
     "text": [
      "INFO:tensorflow:Assets written to: models\\experiment-1-3\\assets\n"
     ]
    },
    {
     "name": "stderr",
     "output_type": "stream",
     "text": [
      "INFO:tensorflow:Assets written to: models\\experiment-1-3\\assets\n"
     ]
    },
    {
     "name": "stdout",
     "output_type": "stream",
     "text": [
      "782/782 [==============================] - 55s 70ms/step - loss: 1.1729e-06 - accuracy: 1.0000 - val_loss: 1.0594e-06 - val_accuracy: 1.0000\n"
     ]
    }
   ],
   "source": [
    "# Models\n",
    "# 'models/experiment-1-1'\n",
    "# 'models/experiment-1-2'\n",
    "# 'models/experiment-1-3'\n",
    "\n",
    "# History objects\n",
    "# 'models/experiment-1-1-history'\n",
    "# 'models/experiment-1-2-history'\n",
    "# 'models/experiment-1-3-history'\n",
    "\n",
    "n_pairs = 3\n",
    "models_pairs = [keras.models.Sequential() for i in range(n_pairs)]\n",
    "early_stopping_cb = keras.callbacks.EarlyStopping(patience=5)\n",
    "\n",
    "for n in range(1, n_pairs+1):\n",
    "    models_pairs[n-1].add(keras.layers.Conv2D(32, (5, 5), padding='same', activation='relu', input_shape=(28, 28, 1)))\n",
    "    models_pairs[n-1].add(keras.layers.MaxPooling2D(pool_size=(2, 2)))\n",
    "    for i in range(1, n):\n",
    "        models_pairs[n-1].add(keras.layers.Conv2D(32*(i+1), (5, 5), padding='same', activation='relu'))\n",
    "        models_pairs[n-1].add(keras.layers.MaxPooling2D(pool_size=(2, 2)))\n",
    "    models_pairs[n-1].add(keras.layers.Flatten())\n",
    "    models_pairs[n-1].add(keras.layers.Dense(128, activation='relu'))\n",
    "    models_pairs[n-1].add(keras.layers.Dense(24, activation='softmax'))\n",
    "    models_pairs[n-1].compile(loss='categorical_crossentropy', optimizer='adam', metrics=['accuracy'])\n",
    "    save_best_cb = keras.callbacks.ModelCheckpoint(f'models/experiment-1-{n}', save_best_only=True)\n",
    "    history = models_pairs[n-1].fit(X_train, y_train, epochs=15, validation_data=(X_valid, y_valid), callbacks=[save_best_cb, early_stopping_cb])\n",
    "    with open(f'models/experiment-1-{n}-history', 'wb') as history_file:\n",
    "        pickle.dump(history.history, history_file)"
   ]
  },
  {
   "cell_type": "code",
   "execution_count": 71,
   "id": "fe1939d8",
   "metadata": {
    "scrolled": false
   },
   "outputs": [
    {
     "name": "stdout",
     "output_type": "stream",
     "text": [
      "Model: \"sequential_8\"\n",
      "_________________________________________________________________\n",
      " Layer (type)                Output Shape              Param #   \n",
      "=================================================================\n",
      " conv2d_13 (Conv2D)          (None, 28, 28, 32)        832       \n",
      "                                                                 \n",
      " max_pooling2d_13 (MaxPoolin  (None, 14, 14, 32)       0         \n",
      " g2D)                                                            \n",
      "                                                                 \n",
      " flatten_6 (Flatten)         (None, 6272)              0         \n",
      "                                                                 \n",
      " dense_12 (Dense)            (None, 128)               802944    \n",
      "                                                                 \n",
      " dense_13 (Dense)            (None, 24)                3096      \n",
      "                                                                 \n",
      "=================================================================\n",
      "Total params: 806,872\n",
      "Trainable params: 806,872\n",
      "Non-trainable params: 0\n",
      "_________________________________________________________________\n"
     ]
    }
   ],
   "source": [
    "models_pairs[0].summary()"
   ]
  },
  {
   "cell_type": "code",
   "execution_count": 72,
   "id": "8945d1b6",
   "metadata": {
    "scrolled": true
   },
   "outputs": [
    {
     "name": "stdout",
     "output_type": "stream",
     "text": [
      "Model: \"sequential_9\"\n",
      "_________________________________________________________________\n",
      " Layer (type)                Output Shape              Param #   \n",
      "=================================================================\n",
      " conv2d_14 (Conv2D)          (None, 28, 28, 32)        832       \n",
      "                                                                 \n",
      " max_pooling2d_14 (MaxPoolin  (None, 14, 14, 32)       0         \n",
      " g2D)                                                            \n",
      "                                                                 \n",
      " conv2d_15 (Conv2D)          (None, 14, 14, 64)        51264     \n",
      "                                                                 \n",
      " max_pooling2d_15 (MaxPoolin  (None, 7, 7, 64)         0         \n",
      " g2D)                                                            \n",
      "                                                                 \n",
      " flatten_7 (Flatten)         (None, 3136)              0         \n",
      "                                                                 \n",
      " dense_14 (Dense)            (None, 128)               401536    \n",
      "                                                                 \n",
      " dense_15 (Dense)            (None, 24)                3096      \n",
      "                                                                 \n",
      "=================================================================\n",
      "Total params: 456,728\n",
      "Trainable params: 456,728\n",
      "Non-trainable params: 0\n",
      "_________________________________________________________________\n"
     ]
    }
   ],
   "source": [
    "models_pairs[1].summary()"
   ]
  },
  {
   "cell_type": "code",
   "execution_count": 73,
   "id": "c7a0122c",
   "metadata": {
    "scrolled": true
   },
   "outputs": [
    {
     "name": "stdout",
     "output_type": "stream",
     "text": [
      "Model: \"sequential_10\"\n",
      "_________________________________________________________________\n",
      " Layer (type)                Output Shape              Param #   \n",
      "=================================================================\n",
      " conv2d_16 (Conv2D)          (None, 28, 28, 32)        832       \n",
      "                                                                 \n",
      " max_pooling2d_16 (MaxPoolin  (None, 14, 14, 32)       0         \n",
      " g2D)                                                            \n",
      "                                                                 \n",
      " conv2d_17 (Conv2D)          (None, 14, 14, 64)        51264     \n",
      "                                                                 \n",
      " max_pooling2d_17 (MaxPoolin  (None, 7, 7, 64)         0         \n",
      " g2D)                                                            \n",
      "                                                                 \n",
      " conv2d_18 (Conv2D)          (None, 7, 7, 96)          153696    \n",
      "                                                                 \n",
      " max_pooling2d_18 (MaxPoolin  (None, 3, 3, 96)         0         \n",
      " g2D)                                                            \n",
      "                                                                 \n",
      " flatten_8 (Flatten)         (None, 864)               0         \n",
      "                                                                 \n",
      " dense_16 (Dense)            (None, 128)               110720    \n",
      "                                                                 \n",
      " dense_17 (Dense)            (None, 24)                3096      \n",
      "                                                                 \n",
      "=================================================================\n",
      "Total params: 319,608\n",
      "Trainable params: 319,608\n",
      "Non-trainable params: 0\n",
      "_________________________________________________________________\n"
     ]
    }
   ],
   "source": [
    "models_pairs[2].summary()"
   ]
  },
  {
   "cell_type": "code",
   "execution_count": 74,
   "id": "f5e21d6c",
   "metadata": {},
   "outputs": [
    {
     "name": "stdout",
     "output_type": "stream",
     "text": [
      "77/77 [==============================] - 1s 7ms/step - loss: 1.0053e-04 - accuracy: 1.0000\n",
      "77/77 [==============================] - 1s 16ms/step - loss: 2.6454e-06 - accuracy: 1.0000\n",
      "77/77 [==============================] - 2s 20ms/step - loss: 1.0594e-06 - accuracy: 1.0000\n"
     ]
    }
   ],
   "source": [
    "for index in range(n_pairs):\n",
    "    model = keras.models.load_model(f'models/experiment-1-{index+1}')\n",
    "    model.evaluate(X_valid, y_valid)"
   ]
  },
  {
   "cell_type": "code",
   "execution_count": 75,
   "id": "83c8007b",
   "metadata": {},
   "outputs": [],
   "source": [
    "h_1_1 = np.load('models/experiment-1-1-history', allow_pickle=True)\n",
    "h_1_2 = np.load('models/experiment-1-2-history', allow_pickle=True)\n",
    "h_1_3 = np.load('models/experiment-1-3-history', allow_pickle=True)"
   ]
  },
  {
   "cell_type": "code",
   "execution_count": 76,
   "id": "b62ddb38",
   "metadata": {},
   "outputs": [
    {
     "data": {
      "image/png": "[encoded data removed]",
      "text/plain": [
       "<Figure size 1000x500 with 1 Axes>"
      ]
     },
     "metadata": {},
     "output_type": "display_data"
    }
   ],
   "source": [
    "get_train_val_plots(h_1_1, yticks=np.arange(0, 1.2, 0.1))"
   ]
  },
  {
   "cell_type": "code",
   "execution_count": 77,
   "id": "32fe1158",
   "metadata": {},
   "outputs": [
    {
     "data": {
      "image/png": "[encoded data removed]",
      "text/plain": [
       "<Figure size 1000x500 with 1 Axes>"
      ]
     },
     "metadata": {},
     "output_type": "display_data"
    }
   ],
   "source": [
    "get_train_val_plots(h_1_2, yticks=np.arange(0, 1.2, 0.1))"
   ]
  },
  {
   "cell_type": "code",
   "execution_count": 78,
   "id": "30310268",
   "metadata": {},
   "outputs": [
    {
     "data": {
      "image/png": "[encoded data removed]",
      "text/plain": [
       "<Figure size 1000x500 with 1 Axes>"
      ]
     },
     "metadata": {},
     "output_type": "display_data"
    }
   ],
   "source": [
    "get_train_val_plots(h_1_3, yticks=np.arange(0, 1.2, 0.1))"
   ]
  },
  {
   "cell_type": "markdown",
   "id": "28be53a8",
   "metadata": {},
   "source": [
    "Model 3 has the least loss on the validation data"
   ]
  },
  {
   "cell_type": "markdown",
   "id": "1ebbbd65",
   "metadata": {},
   "source": [
    "## Filters\n",
    "\n",
    "Our Models now contains 3 pairs of Convolution and Pooling layers\n",
    "\n",
    "Number of filters maps can be\n",
    "\n",
    "1. 8 - 16 - 32\n",
    "2. 16 - 32 - 64\n",
    "3. 24 - 48 - 96"
   ]
  },
  {
   "cell_type": "code",
   "execution_count": 79,
   "id": "51ff2cb0",
   "metadata": {
    "scrolled": true
   },
   "outputs": [
    {
     "name": "stdout",
     "output_type": "stream",
     "text": [
      "Epoch 1/10\n",
      "781/782 [============================>.] - ETA: 0s - loss: 1.0449 - accuracy: 0.6721"
     ]
    },
    {
     "name": "stderr",
     "output_type": "stream",
     "text": [
      "WARNING:absl:Found untraced functions such as _jit_compiled_convolution_op, _jit_compiled_convolution_op, _jit_compiled_convolution_op, _update_step_xla while saving (showing 4 of 4). These functions will not be directly callable after loading.\n"
     ]
    },
    {
     "name": "stdout",
     "output_type": "stream",
     "text": [
      "INFO:tensorflow:Assets written to: models\\experiment-fmaps-1\\assets\n"
     ]
    },
    {
     "name": "stderr",
     "output_type": "stream",
     "text": [
      "INFO:tensorflow:Assets written to: models\\experiment-fmaps-1\\assets\n"
     ]
    },
    {
     "name": "stdout",
     "output_type": "stream",
     "text": [
      "782/782 [==============================] - 20s 24ms/step - loss: 1.0446 - accuracy: 0.6722 - val_loss: 0.2456 - val_accuracy: 0.9218\n",
      "Epoch 2/10\n",
      "779/782 [============================>.] - ETA: 0s - loss: 0.0861 - accuracy: 0.9771"
     ]
    },
    {
     "name": "stderr",
     "output_type": "stream",
     "text": [
      "WARNING:absl:Found untraced functions such as _jit_compiled_convolution_op, _jit_compiled_convolution_op, _jit_compiled_convolution_op, _update_step_xla while saving (showing 4 of 4). These functions will not be directly callable after loading.\n"
     ]
    },
    {
     "name": "stdout",
     "output_type": "stream",
     "text": [
      "INFO:tensorflow:Assets written to: models\\experiment-fmaps-1\\assets\n"
     ]
    },
    {
     "name": "stderr",
     "output_type": "stream",
     "text": [
      "INFO:tensorflow:Assets written to: models\\experiment-fmaps-1\\assets\n"
     ]
    },
    {
     "name": "stdout",
     "output_type": "stream",
     "text": [
      "782/782 [==============================] - 17s 22ms/step - loss: 0.0860 - accuracy: 0.9771 - val_loss: 0.0684 - val_accuracy: 0.9796\n",
      "Epoch 3/10\n",
      "780/782 [============================>.] - ETA: 0s - loss: 0.0167 - accuracy: 0.9967"
     ]
    },
    {
     "name": "stderr",
     "output_type": "stream",
     "text": [
      "WARNING:absl:Found untraced functions such as _jit_compiled_convolution_op, _jit_compiled_convolution_op, _jit_compiled_convolution_op, _update_step_xla while saving (showing 4 of 4). These functions will not be directly callable after loading.\n"
     ]
    },
    {
     "name": "stdout",
     "output_type": "stream",
     "text": [
      "INFO:tensorflow:Assets written to: models\\experiment-fmaps-1\\assets\n"
     ]
    },
    {
     "name": "stderr",
     "output_type": "stream",
     "text": [
      "INFO:tensorflow:Assets written to: models\\experiment-fmaps-1\\assets\n"
     ]
    },
    {
     "name": "stdout",
     "output_type": "stream",
     "text": [
      "782/782 [==============================] - 18s 23ms/step - loss: 0.0167 - accuracy: 0.9967 - val_loss: 0.0020 - val_accuracy: 1.0000\n",
      "Epoch 4/10\n",
      "782/782 [==============================] - 17s 22ms/step - loss: 0.0387 - accuracy: 0.9888 - val_loss: 0.0091 - val_accuracy: 0.9988\n",
      "Epoch 5/10\n",
      "781/782 [============================>.] - ETA: 0s - loss: 0.0015 - accuracy: 1.0000"
     ]
    },
    {
     "name": "stderr",
     "output_type": "stream",
     "text": [
      "WARNING:absl:Found untraced functions such as _jit_compiled_convolution_op, _jit_compiled_convolution_op, _jit_compiled_convolution_op, _update_step_xla while saving (showing 4 of 4). These functions will not be directly callable after loading.\n"
     ]
    },
    {
     "name": "stdout",
     "output_type": "stream",
     "text": [
      "INFO:tensorflow:Assets written to: models\\experiment-fmaps-1\\assets\n"
     ]
    },
    {
     "name": "stderr",
     "output_type": "stream",
     "text": [
      "INFO:tensorflow:Assets written to: models\\experiment-fmaps-1\\assets\n"
     ]
    },
    {
     "name": "stdout",
     "output_type": "stream",
     "text": [
      "782/782 [==============================] - 17s 22ms/step - loss: 0.0015 - accuracy: 1.0000 - val_loss: 5.3287e-04 - val_accuracy: 1.0000\n",
      "Epoch 6/10\n",
      "779/782 [============================>.] - ETA: 0s - loss: 3.0308e-04 - accuracy: 1.0000"
     ]
    },
    {
     "name": "stderr",
     "output_type": "stream",
     "text": [
      "WARNING:absl:Found untraced functions such as _jit_compiled_convolution_op, _jit_compiled_convolution_op, _jit_compiled_convolution_op, _update_step_xla while saving (showing 4 of 4). These functions will not be directly callable after loading.\n"
     ]
    },
    {
     "name": "stdout",
     "output_type": "stream",
     "text": [
      "INFO:tensorflow:Assets written to: models\\experiment-fmaps-1\\assets\n"
     ]
    },
    {
     "name": "stderr",
     "output_type": "stream",
     "text": [
      "INFO:tensorflow:Assets written to: models\\experiment-fmaps-1\\assets\n"
     ]
    },
    {
     "name": "stdout",
     "output_type": "stream",
     "text": [
      "782/782 [==============================] - 18s 23ms/step - loss: 3.0276e-04 - accuracy: 1.0000 - val_loss: 2.7828e-04 - val_accuracy: 1.0000\n",
      "Epoch 7/10\n",
      "782/782 [==============================] - ETA: 0s - loss: 1.6916e-04 - accuracy: 1.0000"
     ]
    },
    {
     "name": "stderr",
     "output_type": "stream",
     "text": [
      "WARNING:absl:Found untraced functions such as _jit_compiled_convolution_op, _jit_compiled_convolution_op, _jit_compiled_convolution_op, _update_step_xla while saving (showing 4 of 4). These functions will not be directly callable after loading.\n"
     ]
    },
    {
     "name": "stdout",
     "output_type": "stream",
     "text": [
      "INFO:tensorflow:Assets written to: models\\experiment-fmaps-1\\assets\n"
     ]
    },
    {
     "name": "stderr",
     "output_type": "stream",
     "text": [
      "INFO:tensorflow:Assets written to: models\\experiment-fmaps-1\\assets\n"
     ]
    },
    {
     "name": "stdout",
     "output_type": "stream",
     "text": [
      "782/782 [==============================] - 17s 22ms/step - loss: 1.6916e-04 - accuracy: 1.0000 - val_loss: 1.5094e-04 - val_accuracy: 1.0000\n",
      "Epoch 8/10\n",
      "779/782 [============================>.] - ETA: 0s - loss: 9.9834e-05 - accuracy: 1.0000"
     ]
    },
    {
     "name": "stderr",
     "output_type": "stream",
     "text": [
      "WARNING:absl:Found untraced functions such as _jit_compiled_convolution_op, _jit_compiled_convolution_op, _jit_compiled_convolution_op, _update_step_xla while saving (showing 4 of 4). These functions will not be directly callable after loading.\n"
     ]
    },
    {
     "name": "stdout",
     "output_type": "stream",
     "text": [
      "INFO:tensorflow:Assets written to: models\\experiment-fmaps-1\\assets\n"
     ]
    },
    {
     "name": "stderr",
     "output_type": "stream",
     "text": [
      "INFO:tensorflow:Assets written to: models\\experiment-fmaps-1\\assets\n"
     ]
    },
    {
     "name": "stdout",
     "output_type": "stream",
     "text": [
      "782/782 [==============================] - 18s 23ms/step - loss: 9.9600e-05 - accuracy: 1.0000 - val_loss: 9.7430e-05 - val_accuracy: 1.0000\n",
      "Epoch 9/10\n",
      "780/782 [============================>.] - ETA: 0s - loss: 6.0817e-05 - accuracy: 1.0000"
     ]
    },
    {
     "name": "stderr",
     "output_type": "stream",
     "text": [
      "WARNING:absl:Found untraced functions such as _jit_compiled_convolution_op, _jit_compiled_convolution_op, _jit_compiled_convolution_op, _update_step_xla while saving (showing 4 of 4). These functions will not be directly callable after loading.\n"
     ]
    },
    {
     "name": "stdout",
     "output_type": "stream",
     "text": [
      "INFO:tensorflow:Assets written to: models\\experiment-fmaps-1\\assets\n"
     ]
    },
    {
     "name": "stderr",
     "output_type": "stream",
     "text": [
      "INFO:tensorflow:Assets written to: models\\experiment-fmaps-1\\assets\n"
     ]
    },
    {
     "name": "stdout",
     "output_type": "stream",
     "text": [
      "782/782 [==============================] - 18s 23ms/step - loss: 6.0769e-05 - accuracy: 1.0000 - val_loss: 6.3974e-05 - val_accuracy: 1.0000\n",
      "Epoch 10/10\n",
      "780/782 [============================>.] - ETA: 0s - loss: 3.9202e-05 - accuracy: 1.0000"
     ]
    },
    {
     "name": "stderr",
     "output_type": "stream",
     "text": [
      "WARNING:absl:Found untraced functions such as _jit_compiled_convolution_op, _jit_compiled_convolution_op, _jit_compiled_convolution_op, _update_step_xla while saving (showing 4 of 4). These functions will not be directly callable after loading.\n"
     ]
    },
    {
     "name": "stdout",
     "output_type": "stream",
     "text": [
      "INFO:tensorflow:Assets written to: models\\experiment-fmaps-1\\assets\n"
     ]
    },
    {
     "name": "stderr",
     "output_type": "stream",
     "text": [
      "INFO:tensorflow:Assets written to: models\\experiment-fmaps-1\\assets\n"
     ]
    },
    {
     "name": "stdout",
     "output_type": "stream",
     "text": [
      "782/782 [==============================] - 18s 23ms/step - loss: 3.9164e-05 - accuracy: 1.0000 - val_loss: 4.7822e-05 - val_accuracy: 1.0000\n",
      "Epoch 1/10\n",
      "781/782 [============================>.] - ETA: 0s - loss: 0.9331 - accuracy: 0.7178"
     ]
    },
    {
     "name": "stderr",
     "output_type": "stream",
     "text": [
      "WARNING:absl:Found untraced functions such as _jit_compiled_convolution_op, _jit_compiled_convolution_op, _jit_compiled_convolution_op, _update_step_xla while saving (showing 4 of 4). These functions will not be directly callable after loading.\n"
     ]
    },
    {
     "name": "stdout",
     "output_type": "stream",
     "text": [
      "INFO:tensorflow:Assets written to: models\\experiment-fmaps-2\\assets\n"
     ]
    },
    {
     "name": "stderr",
     "output_type": "stream",
     "text": [
      "INFO:tensorflow:Assets written to: models\\experiment-fmaps-2\\assets\n"
     ]
    },
    {
     "name": "stdout",
     "output_type": "stream",
     "text": [
      "782/782 [==============================] - 27s 34ms/step - loss: 0.9329 - accuracy: 0.7179 - val_loss: 0.1298 - val_accuracy: 0.9576\n",
      "Epoch 2/10\n",
      "781/782 [============================>.] - ETA: 0s - loss: 0.0346 - accuracy: 0.9917"
     ]
    },
    {
     "name": "stderr",
     "output_type": "stream",
     "text": [
      "WARNING:absl:Found untraced functions such as _jit_compiled_convolution_op, _jit_compiled_convolution_op, _jit_compiled_convolution_op, _update_step_xla while saving (showing 4 of 4). These functions will not be directly callable after loading.\n"
     ]
    },
    {
     "name": "stdout",
     "output_type": "stream",
     "text": [
      "INFO:tensorflow:Assets written to: models\\experiment-fmaps-2\\assets\n"
     ]
    },
    {
     "name": "stderr",
     "output_type": "stream",
     "text": [
      "INFO:tensorflow:Assets written to: models\\experiment-fmaps-2\\assets\n"
     ]
    },
    {
     "name": "stdout",
     "output_type": "stream",
     "text": [
      "782/782 [==============================] - 26s 34ms/step - loss: 0.0346 - accuracy: 0.9917 - val_loss: 0.0142 - val_accuracy: 0.9980\n",
      "Epoch 3/10\n",
      "781/782 [============================>.] - ETA: 0s - loss: 0.0244 - accuracy: 0.9935"
     ]
    },
    {
     "name": "stderr",
     "output_type": "stream",
     "text": [
      "WARNING:absl:Found untraced functions such as _jit_compiled_convolution_op, _jit_compiled_convolution_op, _jit_compiled_convolution_op, _update_step_xla while saving (showing 4 of 4). These functions will not be directly callable after loading.\n"
     ]
    },
    {
     "name": "stdout",
     "output_type": "stream",
     "text": [
      "INFO:tensorflow:Assets written to: models\\experiment-fmaps-2\\assets\n"
     ]
    },
    {
     "name": "stderr",
     "output_type": "stream",
     "text": [
      "INFO:tensorflow:Assets written to: models\\experiment-fmaps-2\\assets\n"
     ]
    },
    {
     "name": "stdout",
     "output_type": "stream",
     "text": [
      "782/782 [==============================] - 29s 37ms/step - loss: 0.0244 - accuracy: 0.9935 - val_loss: 7.5933e-04 - val_accuracy: 1.0000\n",
      "Epoch 4/10\n",
      "780/782 [============================>.] - ETA: 0s - loss: 3.8901e-04 - accuracy: 1.0000"
     ]
    },
    {
     "name": "stderr",
     "output_type": "stream",
     "text": [
      "WARNING:absl:Found untraced functions such as _jit_compiled_convolution_op, _jit_compiled_convolution_op, _jit_compiled_convolution_op, _update_step_xla while saving (showing 4 of 4). These functions will not be directly callable after loading.\n"
     ]
    },
    {
     "name": "stdout",
     "output_type": "stream",
     "text": [
      "INFO:tensorflow:Assets written to: models\\experiment-fmaps-2\\assets\n"
     ]
    },
    {
     "name": "stderr",
     "output_type": "stream",
     "text": [
      "INFO:tensorflow:Assets written to: models\\experiment-fmaps-2\\assets\n"
     ]
    },
    {
     "name": "stdout",
     "output_type": "stream",
     "text": [
      "782/782 [==============================] - 30s 38ms/step - loss: 3.8876e-04 - accuracy: 1.0000 - val_loss: 2.7239e-04 - val_accuracy: 1.0000\n",
      "Epoch 5/10\n",
      "781/782 [============================>.] - ETA: 0s - loss: 1.6239e-04 - accuracy: 1.0000"
     ]
    },
    {
     "name": "stderr",
     "output_type": "stream",
     "text": [
      "WARNING:absl:Found untraced functions such as _jit_compiled_convolution_op, _jit_compiled_convolution_op, _jit_compiled_convolution_op, _update_step_xla while saving (showing 4 of 4). These functions will not be directly callable after loading.\n"
     ]
    },
    {
     "name": "stdout",
     "output_type": "stream",
     "text": [
      "INFO:tensorflow:Assets written to: models\\experiment-fmaps-2\\assets\n"
     ]
    },
    {
     "name": "stderr",
     "output_type": "stream",
     "text": [
      "INFO:tensorflow:Assets written to: models\\experiment-fmaps-2\\assets\n"
     ]
    },
    {
     "name": "stdout",
     "output_type": "stream",
     "text": [
      "782/782 [==============================] - 1002s 1s/step - loss: 1.6239e-04 - accuracy: 1.0000 - val_loss: 1.4423e-04 - val_accuracy: 1.0000\n",
      "Epoch 6/10\n",
      "780/782 [============================>.] - ETA: 0s - loss: 9.3752e-05 - accuracy: 1.0000"
     ]
    },
    {
     "name": "stderr",
     "output_type": "stream",
     "text": [
      "WARNING:absl:Found untraced functions such as _jit_compiled_convolution_op, _jit_compiled_convolution_op, _jit_compiled_convolution_op, _update_step_xla while saving (showing 4 of 4). These functions will not be directly callable after loading.\n"
     ]
    },
    {
     "name": "stdout",
     "output_type": "stream",
     "text": [
      "INFO:tensorflow:Assets written to: models\\experiment-fmaps-2\\assets\n"
     ]
    },
    {
     "name": "stderr",
     "output_type": "stream",
     "text": [
      "INFO:tensorflow:Assets written to: models\\experiment-fmaps-2\\assets\n"
     ]
    },
    {
     "name": "stdout",
     "output_type": "stream",
     "text": [
      "782/782 [==============================] - 96s 123ms/step - loss: 9.3666e-05 - accuracy: 1.0000 - val_loss: 9.4274e-05 - val_accuracy: 1.0000\n",
      "Epoch 7/10\n",
      "780/782 [============================>.] - ETA: 0s - loss: 5.7582e-05 - accuracy: 1.0000"
     ]
    },
    {
     "name": "stderr",
     "output_type": "stream",
     "text": [
      "WARNING:absl:Found untraced functions such as _jit_compiled_convolution_op, _jit_compiled_convolution_op, _jit_compiled_convolution_op, _update_step_xla while saving (showing 4 of 4). These functions will not be directly callable after loading.\n"
     ]
    },
    {
     "name": "stdout",
     "output_type": "stream",
     "text": [
      "INFO:tensorflow:Assets written to: models\\experiment-fmaps-2\\assets\n"
     ]
    },
    {
     "name": "stderr",
     "output_type": "stream",
     "text": [
      "INFO:tensorflow:Assets written to: models\\experiment-fmaps-2\\assets\n"
     ]
    },
    {
     "name": "stdout",
     "output_type": "stream",
     "text": [
      "782/782 [==============================] - 26s 33ms/step - loss: 5.7510e-05 - accuracy: 1.0000 - val_loss: 5.5955e-05 - val_accuracy: 1.0000\n",
      "Epoch 8/10\n",
      "780/782 [============================>.] - ETA: 0s - loss: 3.5825e-05 - accuracy: 1.0000"
     ]
    },
    {
     "name": "stderr",
     "output_type": "stream",
     "text": [
      "WARNING:absl:Found untraced functions such as _jit_compiled_convolution_op, _jit_compiled_convolution_op, _jit_compiled_convolution_op, _update_step_xla while saving (showing 4 of 4). These functions will not be directly callable after loading.\n"
     ]
    },
    {
     "name": "stdout",
     "output_type": "stream",
     "text": [
      "INFO:tensorflow:Assets written to: models\\experiment-fmaps-2\\assets\n"
     ]
    },
    {
     "name": "stderr",
     "output_type": "stream",
     "text": [
      "INFO:tensorflow:Assets written to: models\\experiment-fmaps-2\\assets\n"
     ]
    },
    {
     "name": "stdout",
     "output_type": "stream",
     "text": [
      "782/782 [==============================] - 26s 33ms/step - loss: 3.5795e-05 - accuracy: 1.0000 - val_loss: 3.4964e-05 - val_accuracy: 1.0000\n",
      "Epoch 9/10\n",
      "782/782 [==============================] - ETA: 0s - loss: 2.3312e-05 - accuracy: 1.0000"
     ]
    },
    {
     "name": "stderr",
     "output_type": "stream",
     "text": [
      "WARNING:absl:Found untraced functions such as _jit_compiled_convolution_op, _jit_compiled_convolution_op, _jit_compiled_convolution_op, _update_step_xla while saving (showing 4 of 4). These functions will not be directly callable after loading.\n"
     ]
    },
    {
     "name": "stdout",
     "output_type": "stream",
     "text": [
      "INFO:tensorflow:Assets written to: models\\experiment-fmaps-2\\assets\n"
     ]
    },
    {
     "name": "stderr",
     "output_type": "stream",
     "text": [
      "INFO:tensorflow:Assets written to: models\\experiment-fmaps-2\\assets\n"
     ]
    },
    {
     "name": "stdout",
     "output_type": "stream",
     "text": [
      "782/782 [==============================] - 28s 35ms/step - loss: 2.3312e-05 - accuracy: 1.0000 - val_loss: 2.3563e-05 - val_accuracy: 1.0000\n",
      "Epoch 10/10\n",
      "781/782 [============================>.] - ETA: 0s - loss: 1.5695e-05 - accuracy: 1.0000"
     ]
    },
    {
     "name": "stderr",
     "output_type": "stream",
     "text": [
      "WARNING:absl:Found untraced functions such as _jit_compiled_convolution_op, _jit_compiled_convolution_op, _jit_compiled_convolution_op, _update_step_xla while saving (showing 4 of 4). These functions will not be directly callable after loading.\n"
     ]
    },
    {
     "name": "stdout",
     "output_type": "stream",
     "text": [
      "INFO:tensorflow:Assets written to: models\\experiment-fmaps-2\\assets\n"
     ]
    },
    {
     "name": "stderr",
     "output_type": "stream",
     "text": [
      "INFO:tensorflow:Assets written to: models\\experiment-fmaps-2\\assets\n"
     ]
    },
    {
     "name": "stdout",
     "output_type": "stream",
     "text": [
      "782/782 [==============================] - 28s 36ms/step - loss: 1.5691e-05 - accuracy: 1.0000 - val_loss: 1.4049e-05 - val_accuracy: 1.0000\n",
      "Epoch 1/10\n",
      "782/782 [==============================] - ETA: 0s - loss: 0.7442 - accuracy: 0.7676"
     ]
    },
    {
     "name": "stderr",
     "output_type": "stream",
     "text": [
      "WARNING:absl:Found untraced functions such as _jit_compiled_convolution_op, _jit_compiled_convolution_op, _jit_compiled_convolution_op, _update_step_xla while saving (showing 4 of 4). These functions will not be directly callable after loading.\n"
     ]
    },
    {
     "name": "stdout",
     "output_type": "stream",
     "text": [
      "INFO:tensorflow:Assets written to: models\\experiment-fmaps-3\\assets\n"
     ]
    },
    {
     "name": "stderr",
     "output_type": "stream",
     "text": [
      "INFO:tensorflow:Assets written to: models\\experiment-fmaps-3\\assets\n"
     ]
    },
    {
     "name": "stdout",
     "output_type": "stream",
     "text": [
      "782/782 [==============================] - 39s 49ms/step - loss: 0.7442 - accuracy: 0.7676 - val_loss: 0.0734 - val_accuracy: 0.9747\n",
      "Epoch 2/10\n",
      "782/782 [==============================] - ETA: 0s - loss: 0.0269 - accuracy: 0.9933"
     ]
    },
    {
     "name": "stderr",
     "output_type": "stream",
     "text": [
      "WARNING:absl:Found untraced functions such as _jit_compiled_convolution_op, _jit_compiled_convolution_op, _jit_compiled_convolution_op, _update_step_xla while saving (showing 4 of 4). These functions will not be directly callable after loading.\n"
     ]
    },
    {
     "name": "stdout",
     "output_type": "stream",
     "text": [
      "INFO:tensorflow:Assets written to: models\\experiment-fmaps-3\\assets\n"
     ]
    },
    {
     "name": "stderr",
     "output_type": "stream",
     "text": [
      "INFO:tensorflow:Assets written to: models\\experiment-fmaps-3\\assets\n"
     ]
    },
    {
     "name": "stdout",
     "output_type": "stream",
     "text": [
      "782/782 [==============================] - 39s 50ms/step - loss: 0.0269 - accuracy: 0.9933 - val_loss: 0.0105 - val_accuracy: 0.9988\n",
      "Epoch 3/10\n",
      "781/782 [============================>.] - ETA: 0s - loss: 0.0183 - accuracy: 0.9949"
     ]
    },
    {
     "name": "stderr",
     "output_type": "stream",
     "text": [
      "WARNING:absl:Found untraced functions such as _jit_compiled_convolution_op, _jit_compiled_convolution_op, _jit_compiled_convolution_op, _update_step_xla while saving (showing 4 of 4). These functions will not be directly callable after loading.\n"
     ]
    },
    {
     "name": "stdout",
     "output_type": "stream",
     "text": [
      "INFO:tensorflow:Assets written to: models\\experiment-fmaps-3\\assets\n"
     ]
    },
    {
     "name": "stderr",
     "output_type": "stream",
     "text": [
      "INFO:tensorflow:Assets written to: models\\experiment-fmaps-3\\assets\n"
     ]
    },
    {
     "name": "stdout",
     "output_type": "stream",
     "text": [
      "782/782 [==============================] - 40s 51ms/step - loss: 0.0183 - accuracy: 0.9949 - val_loss: 3.3354e-04 - val_accuracy: 1.0000\n",
      "Epoch 4/10\n",
      "782/782 [==============================] - ETA: 0s - loss: 1.7726e-04 - accuracy: 1.0000"
     ]
    },
    {
     "name": "stderr",
     "output_type": "stream",
     "text": [
      "WARNING:absl:Found untraced functions such as _jit_compiled_convolution_op, _jit_compiled_convolution_op, _jit_compiled_convolution_op, _update_step_xla while saving (showing 4 of 4). These functions will not be directly callable after loading.\n"
     ]
    },
    {
     "name": "stdout",
     "output_type": "stream",
     "text": [
      "INFO:tensorflow:Assets written to: models\\experiment-fmaps-3\\assets\n"
     ]
    },
    {
     "name": "stderr",
     "output_type": "stream",
     "text": [
      "INFO:tensorflow:Assets written to: models\\experiment-fmaps-3\\assets\n"
     ]
    },
    {
     "name": "stdout",
     "output_type": "stream",
     "text": [
      "782/782 [==============================] - 37s 48ms/step - loss: 1.7726e-04 - accuracy: 1.0000 - val_loss: 1.2244e-04 - val_accuracy: 1.0000\n",
      "Epoch 5/10\n",
      "781/782 [============================>.] - ETA: 0s - loss: 8.0867e-05 - accuracy: 1.0000"
     ]
    },
    {
     "name": "stderr",
     "output_type": "stream",
     "text": [
      "WARNING:absl:Found untraced functions such as _jit_compiled_convolution_op, _jit_compiled_convolution_op, _jit_compiled_convolution_op, _update_step_xla while saving (showing 4 of 4). These functions will not be directly callable after loading.\n"
     ]
    },
    {
     "name": "stdout",
     "output_type": "stream",
     "text": [
      "INFO:tensorflow:Assets written to: models\\experiment-fmaps-3\\assets\n"
     ]
    },
    {
     "name": "stderr",
     "output_type": "stream",
     "text": [
      "INFO:tensorflow:Assets written to: models\\experiment-fmaps-3\\assets\n"
     ]
    },
    {
     "name": "stdout",
     "output_type": "stream",
     "text": [
      "782/782 [==============================] - 42s 54ms/step - loss: 8.0854e-05 - accuracy: 1.0000 - val_loss: 6.4936e-05 - val_accuracy: 1.0000\n",
      "Epoch 6/10\n",
      "782/782 [==============================] - ETA: 0s - loss: 4.5330e-05 - accuracy: 1.0000"
     ]
    },
    {
     "name": "stderr",
     "output_type": "stream",
     "text": [
      "WARNING:absl:Found untraced functions such as _jit_compiled_convolution_op, _jit_compiled_convolution_op, _jit_compiled_convolution_op, _update_step_xla while saving (showing 4 of 4). These functions will not be directly callable after loading.\n"
     ]
    },
    {
     "name": "stdout",
     "output_type": "stream",
     "text": [
      "INFO:tensorflow:Assets written to: models\\experiment-fmaps-3\\assets\n"
     ]
    },
    {
     "name": "stderr",
     "output_type": "stream",
     "text": [
      "INFO:tensorflow:Assets written to: models\\experiment-fmaps-3\\assets\n"
     ]
    },
    {
     "name": "stdout",
     "output_type": "stream",
     "text": [
      "782/782 [==============================] - 38s 49ms/step - loss: 4.5330e-05 - accuracy: 1.0000 - val_loss: 3.9053e-05 - val_accuracy: 1.0000\n",
      "Epoch 7/10\n",
      "781/782 [============================>.] - ETA: 0s - loss: 2.8099e-05 - accuracy: 1.0000"
     ]
    },
    {
     "name": "stderr",
     "output_type": "stream",
     "text": [
      "WARNING:absl:Found untraced functions such as _jit_compiled_convolution_op, _jit_compiled_convolution_op, _jit_compiled_convolution_op, _update_step_xla while saving (showing 4 of 4). These functions will not be directly callable after loading.\n"
     ]
    },
    {
     "name": "stdout",
     "output_type": "stream",
     "text": [
      "INFO:tensorflow:Assets written to: models\\experiment-fmaps-3\\assets\n"
     ]
    },
    {
     "name": "stderr",
     "output_type": "stream",
     "text": [
      "INFO:tensorflow:Assets written to: models\\experiment-fmaps-3\\assets\n"
     ]
    },
    {
     "name": "stdout",
     "output_type": "stream",
     "text": [
      "782/782 [==============================] - 38s 48ms/step - loss: 2.8096e-05 - accuracy: 1.0000 - val_loss: 2.5082e-05 - val_accuracy: 1.0000\n",
      "Epoch 8/10\n",
      "781/782 [============================>.] - ETA: 0s - loss: 1.8248e-05 - accuracy: 1.0000"
     ]
    },
    {
     "name": "stderr",
     "output_type": "stream",
     "text": [
      "WARNING:absl:Found untraced functions such as _jit_compiled_convolution_op, _jit_compiled_convolution_op, _jit_compiled_convolution_op, _update_step_xla while saving (showing 4 of 4). These functions will not be directly callable after loading.\n"
     ]
    },
    {
     "name": "stdout",
     "output_type": "stream",
     "text": [
      "INFO:tensorflow:Assets written to: models\\experiment-fmaps-3\\assets\n"
     ]
    },
    {
     "name": "stderr",
     "output_type": "stream",
     "text": [
      "INFO:tensorflow:Assets written to: models\\experiment-fmaps-3\\assets\n"
     ]
    },
    {
     "name": "stdout",
     "output_type": "stream",
     "text": [
      "782/782 [==============================] - 41s 52ms/step - loss: 1.8242e-05 - accuracy: 1.0000 - val_loss: 1.6334e-05 - val_accuracy: 1.0000\n",
      "Epoch 9/10\n",
      "782/782 [==============================] - ETA: 0s - loss: 1.1654e-05 - accuracy: 1.0000"
     ]
    },
    {
     "name": "stderr",
     "output_type": "stream",
     "text": [
      "WARNING:absl:Found untraced functions such as _jit_compiled_convolution_op, _jit_compiled_convolution_op, _jit_compiled_convolution_op, _update_step_xla while saving (showing 4 of 4). These functions will not be directly callable after loading.\n"
     ]
    },
    {
     "name": "stdout",
     "output_type": "stream",
     "text": [
      "INFO:tensorflow:Assets written to: models\\experiment-fmaps-3\\assets\n"
     ]
    },
    {
     "name": "stderr",
     "output_type": "stream",
     "text": [
      "INFO:tensorflow:Assets written to: models\\experiment-fmaps-3\\assets\n"
     ]
    },
    {
     "name": "stdout",
     "output_type": "stream",
     "text": [
      "782/782 [==============================] - 37s 47ms/step - loss: 1.1654e-05 - accuracy: 1.0000 - val_loss: 1.1339e-05 - val_accuracy: 1.0000\n",
      "Epoch 10/10\n",
      "781/782 [============================>.] - ETA: 0s - loss: 7.9657e-06 - accuracy: 1.0000"
     ]
    },
    {
     "name": "stderr",
     "output_type": "stream",
     "text": [
      "WARNING:absl:Found untraced functions such as _jit_compiled_convolution_op, _jit_compiled_convolution_op, _jit_compiled_convolution_op, _update_step_xla while saving (showing 4 of 4). These functions will not be directly callable after loading.\n"
     ]
    },
    {
     "name": "stdout",
     "output_type": "stream",
     "text": [
      "INFO:tensorflow:Assets written to: models\\experiment-fmaps-3\\assets\n"
     ]
    },
    {
     "name": "stderr",
     "output_type": "stream",
     "text": [
      "INFO:tensorflow:Assets written to: models\\experiment-fmaps-3\\assets\n"
     ]
    },
    {
     "name": "stdout",
     "output_type": "stream",
     "text": [
      "782/782 [==============================] - 38s 49ms/step - loss: 7.9632e-06 - accuracy: 1.0000 - val_loss: 6.9968e-06 - val_accuracy: 1.0000\n"
     ]
    }
   ],
   "source": [
    "# Models\n",
    "# 'models/experiment-fmaps-1'\n",
    "# 'models/experiment-fmaps-2'\n",
    "# 'models/experiment-fmaps-3'\n",
    "\n",
    "# History objects\n",
    "# 'models/experiment-fmaps-1-history'\n",
    "# 'models/experiment-fmaps-2-history'\n",
    "# 'models/experiment-fmaps-3-history'\n",
    "\n",
    "n_tests = 3\n",
    "\n",
    "models = []\n",
    "early_stopping_cb = keras.callbacks.EarlyStopping(patience=5)\n",
    "\n",
    "\n",
    "for i in range(n_tests):\n",
    "    model = keras.models.Sequential()\n",
    "    models.append(model)\n",
    "    model.add(keras.layers.Input(shape=(28, 28, 1)))\n",
    "    for pairs in range(3):\n",
    "        model.add(keras.layers.Conv2D((8*(i+1))*(2**pairs), (5, 5), padding='same', activation='relu'))\n",
    "        model.add(keras.layers.MaxPooling2D(pool_size=(2, 2)))\n",
    "    model.add(keras.layers.Flatten())\n",
    "    model.add(keras.layers.Dense(128, activation='relu'))\n",
    "    model.add(keras.layers.Dense(24, activation='softmax'))\n",
    "    model.compile(loss='categorical_crossentropy', optimizer='adam', metrics=['accuracy'])\n",
    "    save_best_cb = keras.callbacks.ModelCheckpoint(f'models/experiment-fmaps-{i+1}', save_best_only=True)\n",
    "    history = model.fit(X_train, y_train, epochs=10, validation_data=(X_valid, y_valid), callbacks=[save_best_cb, early_stopping_cb])\n",
    "    with open(f'models/experiment-fmaps-{i+1}-history', 'wb') as history_file:\n",
    "        pickle.dump(history.history, history_file)"
   ]
  },
  {
   "cell_type": "code",
   "execution_count": 80,
   "id": "4c22de89",
   "metadata": {
    "scrolled": true
   },
   "outputs": [
    {
     "name": "stdout",
     "output_type": "stream",
     "text": [
      "Model: \"sequential_11\"\n",
      "_________________________________________________________________\n",
      " Layer (type)                Output Shape              Param #   \n",
      "=================================================================\n",
      " conv2d_19 (Conv2D)          (None, 28, 28, 8)         208       \n",
      "                                                                 \n",
      " max_pooling2d_19 (MaxPoolin  (None, 14, 14, 8)        0         \n",
      " g2D)                                                            \n",
      "                                                                 \n",
      " conv2d_20 (Conv2D)          (None, 14, 14, 16)        3216      \n",
      "                                                                 \n",
      " max_pooling2d_20 (MaxPoolin  (None, 7, 7, 16)         0         \n",
      " g2D)                                                            \n",
      "                                                                 \n",
      " conv2d_21 (Conv2D)          (None, 7, 7, 32)          12832     \n",
      "                                                                 \n",
      " max_pooling2d_21 (MaxPoolin  (None, 3, 3, 32)         0         \n",
      " g2D)                                                            \n",
      "                                                                 \n",
      " flatten_9 (Flatten)         (None, 288)               0         \n",
      "                                                                 \n",
      " dense_18 (Dense)            (None, 128)               36992     \n",
      "                                                                 \n",
      " dense_19 (Dense)            (None, 24)                3096      \n",
      "                                                                 \n",
      "=================================================================\n",
      "Total params: 56,344\n",
      "Trainable params: 56,344\n",
      "Non-trainable params: 0\n",
      "_________________________________________________________________\n"
     ]
    }
   ],
   "source": [
    "models[0].summary()"
   ]
  },
  {
   "cell_type": "code",
   "execution_count": 81,
   "id": "27f5faf6",
   "metadata": {
    "scrolled": true
   },
   "outputs": [
    {
     "name": "stdout",
     "output_type": "stream",
     "text": [
      "Model: \"sequential_12\"\n",
      "_________________________________________________________________\n",
      " Layer (type)                Output Shape              Param #   \n",
      "=================================================================\n",
      " conv2d_22 (Conv2D)          (None, 28, 28, 16)        416       \n",
      "                                                                 \n",
      " max_pooling2d_22 (MaxPoolin  (None, 14, 14, 16)       0         \n",
      " g2D)                                                            \n",
      "                                                                 \n",
      " conv2d_23 (Conv2D)          (None, 14, 14, 32)        12832     \n",
      "                                                                 \n",
      " max_pooling2d_23 (MaxPoolin  (None, 7, 7, 32)         0         \n",
      " g2D)                                                            \n",
      "                                                                 \n",
      " conv2d_24 (Conv2D)          (None, 7, 7, 64)          51264     \n",
      "                                                                 \n",
      " max_pooling2d_24 (MaxPoolin  (None, 3, 3, 64)         0         \n",
      " g2D)                                                            \n",
      "                                                                 \n",
      " flatten_10 (Flatten)        (None, 576)               0         \n",
      "                                                                 \n",
      " dense_20 (Dense)            (None, 128)               73856     \n",
      "                                                                 \n",
      " dense_21 (Dense)            (None, 24)                3096      \n",
      "                                                                 \n",
      "=================================================================\n",
      "Total params: 141,464\n",
      "Trainable params: 141,464\n",
      "Non-trainable params: 0\n",
      "_________________________________________________________________\n"
     ]
    }
   ],
   "source": [
    "models[1].summary()"
   ]
  },
  {
   "cell_type": "code",
   "execution_count": 82,
   "id": "89b7bbaf",
   "metadata": {
    "scrolled": true
   },
   "outputs": [
    {
     "name": "stdout",
     "output_type": "stream",
     "text": [
      "Model: \"sequential_13\"\n",
      "_________________________________________________________________\n",
      " Layer (type)                Output Shape              Param #   \n",
      "=================================================================\n",
      " conv2d_25 (Conv2D)          (None, 28, 28, 24)        624       \n",
      "                                                                 \n",
      " max_pooling2d_25 (MaxPoolin  (None, 14, 14, 24)       0         \n",
      " g2D)                                                            \n",
      "                                                                 \n",
      " conv2d_26 (Conv2D)          (None, 14, 14, 48)        28848     \n",
      "                                                                 \n",
      " max_pooling2d_26 (MaxPoolin  (None, 7, 7, 48)         0         \n",
      " g2D)                                                            \n",
      "                                                                 \n",
      " conv2d_27 (Conv2D)          (None, 7, 7, 96)          115296    \n",
      "                                                                 \n",
      " max_pooling2d_27 (MaxPoolin  (None, 3, 3, 96)         0         \n",
      " g2D)                                                            \n",
      "                                                                 \n",
      " flatten_11 (Flatten)        (None, 864)               0         \n",
      "                                                                 \n",
      " dense_22 (Dense)            (None, 128)               110720    \n",
      "                                                                 \n",
      " dense_23 (Dense)            (None, 24)                3096      \n",
      "                                                                 \n",
      "=================================================================\n",
      "Total params: 258,584\n",
      "Trainable params: 258,584\n",
      "Non-trainable params: 0\n",
      "_________________________________________________________________\n"
     ]
    }
   ],
   "source": [
    "models[2].summary()"
   ]
  },
  {
   "cell_type": "code",
   "execution_count": 83,
   "id": "d7b2bf2d",
   "metadata": {},
   "outputs": [
    {
     "name": "stdout",
     "output_type": "stream",
     "text": [
      "77/77 [==============================] - 1s 7ms/step - loss: 4.7822e-05 - accuracy: 1.0000\n",
      "77/77 [==============================] - 1s 10ms/step - loss: 1.4049e-05 - accuracy: 1.0000\n",
      "77/77 [==============================] - 1s 14ms/step - loss: 6.9968e-06 - accuracy: 1.0000\n"
     ]
    }
   ],
   "source": [
    "for index in range(n_tests):\n",
    "    model = keras.models.load_model(f'models/experiment-fmaps-{index+1}')\n",
    "    model.evaluate(X_valid, y_valid)"
   ]
  },
  {
   "cell_type": "code",
   "execution_count": 84,
   "id": "c6af5d12",
   "metadata": {},
   "outputs": [],
   "source": [
    "h_2_1 = np.load('models/experiment-fmaps-1-history', allow_pickle=True)\n",
    "h_2_2 = np.load('models/experiment-fmaps-2-history', allow_pickle=True)\n",
    "h_2_3 = np.load('models/experiment-fmaps-3-history', allow_pickle=True)"
   ]
  },
  {
   "cell_type": "code",
   "execution_count": 86,
   "id": "dac13522",
   "metadata": {
    "scrolled": true
   },
   "outputs": [
    {
     "data": {
      "image/png": "[encoded data removed]",
      "text/plain": [
       "<Figure size 1000x500 with 1 Axes>"
      ]
     },
     "metadata": {},
     "output_type": "display_data"
    },
    {
     "data": {
      "image/png": "[encoded data removed]",
      "text/plain": [
       "<Figure size 1000x500 with 1 Axes>"
      ]
     },
     "metadata": {},
     "output_type": "display_data"
    },
    {
     "data": {
      "image/png": "[encoded data removed]",
      "text/plain": [
       "<Figure size 1000x500 with 1 Axes>"
      ]
     },
     "metadata": {},
     "output_type": "display_data"
    }
   ],
   "source": [
    "get_train_val_plots(h_2_1, yticks=np.arange(0, 1.2, 0.1))\n",
    "get_train_val_plots(h_2_2, yticks=np.arange(0, 1.2, 0.1))\n",
    "get_train_val_plots(h_2_3, yticks=np.arange(0, 1.2, 0.1))"
   ]
  },
  {
   "cell_type": "markdown",
   "id": "74dc1a09",
   "metadata": {},
   "source": [
    "Choose Model 3"
   ]
  },
  {
   "cell_type": "markdown",
   "id": "68a857fd",
   "metadata": {},
   "source": [
    "## Filter Size"
   ]
  },
  {
   "cell_type": "code",
   "execution_count": 87,
   "id": "4ca42854",
   "metadata": {
    "scrolled": true
   },
   "outputs": [
    {
     "name": "stdout",
     "output_type": "stream",
     "text": [
      "Epoch 1/10\n",
      "780/782 [============================>.] - ETA: 0s - loss: 0.8809 - accuracy: 0.7341"
     ]
    },
    {
     "name": "stderr",
     "output_type": "stream",
     "text": [
      "WARNING:absl:Found untraced functions such as _jit_compiled_convolution_op, _jit_compiled_convolution_op, _jit_compiled_convolution_op, _update_step_xla while saving (showing 4 of 4). These functions will not be directly callable after loading.\n"
     ]
    },
    {
     "name": "stdout",
     "output_type": "stream",
     "text": [
      "INFO:tensorflow:Assets written to: models\\experiment-fiters-1\\assets\n"
     ]
    },
    {
     "name": "stderr",
     "output_type": "stream",
     "text": [
      "INFO:tensorflow:Assets written to: models\\experiment-fiters-1\\assets\n"
     ]
    },
    {
     "name": "stdout",
     "output_type": "stream",
     "text": [
      "782/782 [==============================] - 20s 25ms/step - loss: 0.8795 - accuracy: 0.7345 - val_loss: 0.0931 - val_accuracy: 0.9686\n",
      "Epoch 2/10\n",
      "780/782 [============================>.] - ETA: 0s - loss: 0.0255 - accuracy: 0.9948"
     ]
    },
    {
     "name": "stderr",
     "output_type": "stream",
     "text": [
      "WARNING:absl:Found untraced functions such as _jit_compiled_convolution_op, _jit_compiled_convolution_op, _jit_compiled_convolution_op, _update_step_xla while saving (showing 4 of 4). These functions will not be directly callable after loading.\n"
     ]
    },
    {
     "name": "stdout",
     "output_type": "stream",
     "text": [
      "INFO:tensorflow:Assets written to: models\\experiment-fiters-1\\assets\n"
     ]
    },
    {
     "name": "stderr",
     "output_type": "stream",
     "text": [
      "INFO:tensorflow:Assets written to: models\\experiment-fiters-1\\assets\n"
     ]
    },
    {
     "name": "stdout",
     "output_type": "stream",
     "text": [
      "782/782 [==============================] - 23s 29ms/step - loss: 0.0255 - accuracy: 0.9948 - val_loss: 0.0055 - val_accuracy: 0.9992\n",
      "Epoch 3/10\n",
      "782/782 [==============================] - 19s 24ms/step - loss: 0.0293 - accuracy: 0.9913 - val_loss: 0.0090 - val_accuracy: 0.9976\n",
      "Epoch 4/10\n",
      "780/782 [============================>.] - ETA: 0s - loss: 0.0017 - accuracy: 0.9996"
     ]
    },
    {
     "name": "stderr",
     "output_type": "stream",
     "text": [
      "WARNING:absl:Found untraced functions such as _jit_compiled_convolution_op, _jit_compiled_convolution_op, _jit_compiled_convolution_op, _update_step_xla while saving (showing 4 of 4). These functions will not be directly callable after loading.\n"
     ]
    },
    {
     "name": "stdout",
     "output_type": "stream",
     "text": [
      "INFO:tensorflow:Assets written to: models\\experiment-fiters-1\\assets\n"
     ]
    },
    {
     "name": "stderr",
     "output_type": "stream",
     "text": [
      "INFO:tensorflow:Assets written to: models\\experiment-fiters-1\\assets\n"
     ]
    },
    {
     "name": "stdout",
     "output_type": "stream",
     "text": [
      "782/782 [==============================] - 20s 25ms/step - loss: 0.0017 - accuracy: 0.9996 - val_loss: 3.8503e-04 - val_accuracy: 1.0000\n",
      "Epoch 5/10\n",
      "781/782 [============================>.] - ETA: 0s - loss: 2.1395e-04 - accuracy: 1.0000"
     ]
    },
    {
     "name": "stderr",
     "output_type": "stream",
     "text": [
      "WARNING:absl:Found untraced functions such as _jit_compiled_convolution_op, _jit_compiled_convolution_op, _jit_compiled_convolution_op, _update_step_xla while saving (showing 4 of 4). These functions will not be directly callable after loading.\n"
     ]
    },
    {
     "name": "stdout",
     "output_type": "stream",
     "text": [
      "INFO:tensorflow:Assets written to: models\\experiment-fiters-1\\assets\n"
     ]
    },
    {
     "name": "stderr",
     "output_type": "stream",
     "text": [
      "INFO:tensorflow:Assets written to: models\\experiment-fiters-1\\assets\n"
     ]
    },
    {
     "name": "stdout",
     "output_type": "stream",
     "text": [
      "782/782 [==============================] - 20s 25ms/step - loss: 2.1389e-04 - accuracy: 1.0000 - val_loss: 1.7513e-04 - val_accuracy: 1.0000\n",
      "Epoch 6/10\n",
      "781/782 [============================>.] - ETA: 0s - loss: 1.0946e-04 - accuracy: 1.0000"
     ]
    },
    {
     "name": "stderr",
     "output_type": "stream",
     "text": [
      "WARNING:absl:Found untraced functions such as _jit_compiled_convolution_op, _jit_compiled_convolution_op, _jit_compiled_convolution_op, _update_step_xla while saving (showing 4 of 4). These functions will not be directly callable after loading.\n"
     ]
    },
    {
     "name": "stdout",
     "output_type": "stream",
     "text": [
      "INFO:tensorflow:Assets written to: models\\experiment-fiters-1\\assets\n"
     ]
    },
    {
     "name": "stderr",
     "output_type": "stream",
     "text": [
      "INFO:tensorflow:Assets written to: models\\experiment-fiters-1\\assets\n"
     ]
    },
    {
     "name": "stdout",
     "output_type": "stream",
     "text": [
      "782/782 [==============================] - 19s 25ms/step - loss: 1.0943e-04 - accuracy: 1.0000 - val_loss: 1.1053e-04 - val_accuracy: 1.0000\n",
      "Epoch 7/10\n",
      "782/782 [==============================] - ETA: 0s - loss: 6.9235e-05 - accuracy: 1.0000"
     ]
    },
    {
     "name": "stderr",
     "output_type": "stream",
     "text": [
      "WARNING:absl:Found untraced functions such as _jit_compiled_convolution_op, _jit_compiled_convolution_op, _jit_compiled_convolution_op, _update_step_xla while saving (showing 4 of 4). These functions will not be directly callable after loading.\n"
     ]
    },
    {
     "name": "stdout",
     "output_type": "stream",
     "text": [
      "INFO:tensorflow:Assets written to: models\\experiment-fiters-1\\assets\n"
     ]
    },
    {
     "name": "stderr",
     "output_type": "stream",
     "text": [
      "INFO:tensorflow:Assets written to: models\\experiment-fiters-1\\assets\n"
     ]
    },
    {
     "name": "stdout",
     "output_type": "stream",
     "text": [
      "782/782 [==============================] - 19s 25ms/step - loss: 6.9235e-05 - accuracy: 1.0000 - val_loss: 7.2112e-05 - val_accuracy: 1.0000\n",
      "Epoch 8/10\n",
      "782/782 [==============================] - ETA: 0s - loss: 4.4376e-05 - accuracy: 1.0000"
     ]
    },
    {
     "name": "stderr",
     "output_type": "stream",
     "text": [
      "WARNING:absl:Found untraced functions such as _jit_compiled_convolution_op, _jit_compiled_convolution_op, _jit_compiled_convolution_op, _update_step_xla while saving (showing 4 of 4). These functions will not be directly callable after loading.\n"
     ]
    },
    {
     "name": "stdout",
     "output_type": "stream",
     "text": [
      "INFO:tensorflow:Assets written to: models\\experiment-fiters-1\\assets\n"
     ]
    },
    {
     "name": "stderr",
     "output_type": "stream",
     "text": [
      "INFO:tensorflow:Assets written to: models\\experiment-fiters-1\\assets\n"
     ]
    },
    {
     "name": "stdout",
     "output_type": "stream",
     "text": [
      "782/782 [==============================] - 21s 26ms/step - loss: 4.4376e-05 - accuracy: 1.0000 - val_loss: 4.9457e-05 - val_accuracy: 1.0000\n",
      "Epoch 9/10\n",
      "782/782 [==============================] - ETA: 0s - loss: 2.9254e-05 - accuracy: 1.0000"
     ]
    },
    {
     "name": "stderr",
     "output_type": "stream",
     "text": [
      "WARNING:absl:Found untraced functions such as _jit_compiled_convolution_op, _jit_compiled_convolution_op, _jit_compiled_convolution_op, _update_step_xla while saving (showing 4 of 4). These functions will not be directly callable after loading.\n"
     ]
    },
    {
     "name": "stdout",
     "output_type": "stream",
     "text": [
      "INFO:tensorflow:Assets written to: models\\experiment-fiters-1\\assets\n"
     ]
    },
    {
     "name": "stderr",
     "output_type": "stream",
     "text": [
      "INFO:tensorflow:Assets written to: models\\experiment-fiters-1\\assets\n"
     ]
    },
    {
     "name": "stdout",
     "output_type": "stream",
     "text": [
      "782/782 [==============================] - 20s 25ms/step - loss: 2.9254e-05 - accuracy: 1.0000 - val_loss: 3.2799e-05 - val_accuracy: 1.0000\n",
      "Epoch 10/10\n",
      "781/782 [============================>.] - ETA: 0s - loss: 2.0671e-05 - accuracy: 1.0000"
     ]
    },
    {
     "name": "stderr",
     "output_type": "stream",
     "text": [
      "WARNING:absl:Found untraced functions such as _jit_compiled_convolution_op, _jit_compiled_convolution_op, _jit_compiled_convolution_op, _update_step_xla while saving (showing 4 of 4). These functions will not be directly callable after loading.\n"
     ]
    },
    {
     "name": "stdout",
     "output_type": "stream",
     "text": [
      "INFO:tensorflow:Assets written to: models\\experiment-fiters-1\\assets\n"
     ]
    },
    {
     "name": "stderr",
     "output_type": "stream",
     "text": [
      "INFO:tensorflow:Assets written to: models\\experiment-fiters-1\\assets\n"
     ]
    },
    {
     "name": "stdout",
     "output_type": "stream",
     "text": [
      "782/782 [==============================] - 20s 25ms/step - loss: 2.0731e-05 - accuracy: 1.0000 - val_loss: 2.2086e-05 - val_accuracy: 1.0000\n"
     ]
    }
   ],
   "source": [
    "# Models\n",
    "# 'models/experiment-fiters-1'\n",
    "\n",
    "# History objects\n",
    "# 'models/experiment-filters-1-history'\n",
    "\n",
    "save_best_cb = keras.callbacks.ModelCheckpoint(f'models/experiment-fiters-1', save_best_only=True)\n",
    "early_stopping_cb = keras.callbacks.EarlyStopping(patience=5)\n",
    "\n",
    "model = keras.models.Sequential()\n",
    "model.add(keras.layers.Conv2D(24, (3, 3), padding='same', activation='relu'))\n",
    "model.add(keras.layers.MaxPooling2D(pool_size=(2, 2)))\n",
    "model.add(keras.layers.Conv2D(48, (3, 3), padding='same', activation='relu'))\n",
    "model.add(keras.layers.MaxPooling2D(pool_size=(2, 2)))\n",
    "model.add(keras.layers.Conv2D(96, (3, 3), padding='same', activation='relu'))\n",
    "model.add(keras.layers.MaxPooling2D(pool_size=(2, 2)))\n",
    "model.add(keras.layers.Flatten())\n",
    "model.add(keras.layers.Dense(128, activation='relu'))\n",
    "model.add(keras.layers.Dense(24, activation='softmax'))\n",
    "model.compile(loss='categorical_crossentropy', optimizer='adam', metrics=['accuracy'])\n",
    "history = model.fit(X_train, y_train, epochs=10, validation_data=(X_valid, y_valid), callbacks=[save_best_cb, early_stopping_cb])\n",
    "with open(f'models/experiment-filters-1-history', 'wb') as history_file:\n",
    "    pickle.dump(history.history, history_file)"
   ]
  },
  {
   "cell_type": "code",
   "execution_count": 88,
   "id": "816df03f",
   "metadata": {},
   "outputs": [
    {
     "name": "stdout",
     "output_type": "stream",
     "text": [
      "77/77 [==============================] - 1s 10ms/step - loss: 2.2086e-05 - accuracy: 1.0000\n"
     ]
    },
    {
     "data": {
      "text/plain": [
       "[2.208559453720227e-05, 1.0]"
      ]
     },
     "execution_count": 88,
     "metadata": {},
     "output_type": "execute_result"
    }
   ],
   "source": [
    "model = keras.models.load_model('models/experiment-fiters-1/')\n",
    "model.evaluate(X_valid, y_valid)"
   ]
  },
  {
   "cell_type": "code",
   "execution_count": 89,
   "id": "1163b70d",
   "metadata": {
    "scrolled": true
   },
   "outputs": [
    {
     "data": {
      "image/png": "[encoded data removed]",
      "text/plain": [
       "<Figure size 1000x500 with 1 Axes>"
      ]
     },
     "metadata": {},
     "output_type": "display_data"
    },
    {
     "data": {
      "image/png": "[encoded data removed]",
      "text/plain": [
       "<Figure size 1000x500 with 1 Axes>"
      ]
     },
     "metadata": {},
     "output_type": "display_data"
    }
   ],
   "source": [
    "h_2_3 = np.load('models/experiment-fmaps-3-history', allow_pickle=True)\n",
    "h = np.load('models/experiment-filters-1-history', allow_pickle=True)\n",
    "get_train_val_plots(h, yticks=np.arange(0, 1.2, 0.1))\n",
    "get_train_val_plots(h_2_3, yticks=np.arange(0, 1.2, 0.1))"
   ]
  },
  {
   "cell_type": "markdown",
   "id": "41197ef4",
   "metadata": {},
   "source": [
    "We choose to use filter sizes of (5x5)"
   ]
  },
  {
   "cell_type": "markdown",
   "id": "d6ab0734",
   "metadata": {},
   "source": [
    "## Dropout"
   ]
  },
  {
   "cell_type": "code",
   "execution_count": 90,
   "id": "39ea34d6",
   "metadata": {},
   "outputs": [
    {
     "name": "stdout",
     "output_type": "stream",
     "text": [
      "Epoch 1/10\n",
      "782/782 [==============================] - ETA: 0s - loss: 1.5736 - accuracy: 0.5054"
     ]
    },
    {
     "name": "stderr",
     "output_type": "stream",
     "text": [
      "WARNING:absl:Found untraced functions such as _jit_compiled_convolution_op, _jit_compiled_convolution_op, _jit_compiled_convolution_op, _update_step_xla while saving (showing 4 of 4). These functions will not be directly callable after loading.\n"
     ]
    },
    {
     "name": "stdout",
     "output_type": "stream",
     "text": [
      "INFO:tensorflow:Assets written to: models\\experiment-dropout-0\\assets\n"
     ]
    },
    {
     "name": "stderr",
     "output_type": "stream",
     "text": [
      "INFO:tensorflow:Assets written to: models\\experiment-dropout-0\\assets\n"
     ]
    },
    {
     "name": "stdout",
     "output_type": "stream",
     "text": [
      "782/782 [==============================] - 43s 54ms/step - loss: 1.5736 - accuracy: 0.5054 - val_loss: 0.1797 - val_accuracy: 0.9381\n",
      "Epoch 2/10\n",
      "781/782 [============================>.] - ETA: 0s - loss: 0.2497 - accuracy: 0.9141"
     ]
    },
    {
     "name": "stderr",
     "output_type": "stream",
     "text": [
      "WARNING:absl:Found untraced functions such as _jit_compiled_convolution_op, _jit_compiled_convolution_op, _jit_compiled_convolution_op, _update_step_xla while saving (showing 4 of 4). These functions will not be directly callable after loading.\n"
     ]
    },
    {
     "name": "stdout",
     "output_type": "stream",
     "text": [
      "INFO:tensorflow:Assets written to: models\\experiment-dropout-0\\assets\n"
     ]
    },
    {
     "name": "stderr",
     "output_type": "stream",
     "text": [
      "INFO:tensorflow:Assets written to: models\\experiment-dropout-0\\assets\n"
     ]
    },
    {
     "name": "stdout",
     "output_type": "stream",
     "text": [
      "782/782 [==============================] - 45s 57ms/step - loss: 0.2497 - accuracy: 0.9141 - val_loss: 0.0213 - val_accuracy: 0.9980\n",
      "Epoch 3/10\n",
      "782/782 [==============================] - ETA: 0s - loss: 0.1118 - accuracy: 0.9638"
     ]
    },
    {
     "name": "stderr",
     "output_type": "stream",
     "text": [
      "WARNING:absl:Found untraced functions such as _jit_compiled_convolution_op, _jit_compiled_convolution_op, _jit_compiled_convolution_op, _update_step_xla while saving (showing 4 of 4). These functions will not be directly callable after loading.\n"
     ]
    },
    {
     "name": "stdout",
     "output_type": "stream",
     "text": [
      "INFO:tensorflow:Assets written to: models\\experiment-dropout-0\\assets\n"
     ]
    },
    {
     "name": "stderr",
     "output_type": "stream",
     "text": [
      "INFO:tensorflow:Assets written to: models\\experiment-dropout-0\\assets\n"
     ]
    },
    {
     "name": "stdout",
     "output_type": "stream",
     "text": [
      "782/782 [==============================] - 43s 54ms/step - loss: 0.1118 - accuracy: 0.9638 - val_loss: 0.0051 - val_accuracy: 0.9996\n",
      "Epoch 4/10\n",
      "782/782 [==============================] - ETA: 0s - loss: 0.0758 - accuracy: 0.9754"
     ]
    },
    {
     "name": "stderr",
     "output_type": "stream",
     "text": [
      "WARNING:absl:Found untraced functions such as _jit_compiled_convolution_op, _jit_compiled_convolution_op, _jit_compiled_convolution_op, _update_step_xla while saving (showing 4 of 4). These functions will not be directly callable after loading.\n"
     ]
    },
    {
     "name": "stdout",
     "output_type": "stream",
     "text": [
      "INFO:tensorflow:Assets written to: models\\experiment-dropout-0\\assets\n"
     ]
    },
    {
     "name": "stderr",
     "output_type": "stream",
     "text": [
      "INFO:tensorflow:Assets written to: models\\experiment-dropout-0\\assets\n"
     ]
    },
    {
     "name": "stdout",
     "output_type": "stream",
     "text": [
      "782/782 [==============================] - 39s 50ms/step - loss: 0.0758 - accuracy: 0.9754 - val_loss: 0.0026 - val_accuracy: 1.0000\n",
      "Epoch 5/10\n",
      "782/782 [==============================] - ETA: 0s - loss: 0.0621 - accuracy: 0.9798"
     ]
    },
    {
     "name": "stderr",
     "output_type": "stream",
     "text": [
      "WARNING:absl:Found untraced functions such as _jit_compiled_convolution_op, _jit_compiled_convolution_op, _jit_compiled_convolution_op, _update_step_xla while saving (showing 4 of 4). These functions will not be directly callable after loading.\n"
     ]
    },
    {
     "name": "stdout",
     "output_type": "stream",
     "text": [
      "INFO:tensorflow:Assets written to: models\\experiment-dropout-0\\assets\n"
     ]
    },
    {
     "name": "stderr",
     "output_type": "stream",
     "text": [
      "INFO:tensorflow:Assets written to: models\\experiment-dropout-0\\assets\n"
     ]
    },
    {
     "name": "stdout",
     "output_type": "stream",
     "text": [
      "782/782 [==============================] - 40s 51ms/step - loss: 0.0621 - accuracy: 0.9798 - val_loss: 0.0013 - val_accuracy: 1.0000\n",
      "Epoch 6/10\n",
      "782/782 [==============================] - 39s 50ms/step - loss: 0.0463 - accuracy: 0.9855 - val_loss: 0.0039 - val_accuracy: 0.9976\n",
      "Epoch 7/10\n",
      "782/782 [==============================] - ETA: 0s - loss: 0.0471 - accuracy: 0.9852"
     ]
    },
    {
     "name": "stderr",
     "output_type": "stream",
     "text": [
      "WARNING:absl:Found untraced functions such as _jit_compiled_convolution_op, _jit_compiled_convolution_op, _jit_compiled_convolution_op, _update_step_xla while saving (showing 4 of 4). These functions will not be directly callable after loading.\n"
     ]
    },
    {
     "name": "stdout",
     "output_type": "stream",
     "text": [
      "INFO:tensorflow:Assets written to: models\\experiment-dropout-0\\assets\n"
     ]
    },
    {
     "name": "stderr",
     "output_type": "stream",
     "text": [
      "INFO:tensorflow:Assets written to: models\\experiment-dropout-0\\assets\n"
     ]
    },
    {
     "name": "stdout",
     "output_type": "stream",
     "text": [
      "782/782 [==============================] - 42s 54ms/step - loss: 0.0471 - accuracy: 0.9852 - val_loss: 4.3517e-04 - val_accuracy: 1.0000\n",
      "Epoch 8/10\n",
      "782/782 [==============================] - ETA: 0s - loss: 0.0354 - accuracy: 0.9889"
     ]
    },
    {
     "name": "stderr",
     "output_type": "stream",
     "text": [
      "WARNING:absl:Found untraced functions such as _jit_compiled_convolution_op, _jit_compiled_convolution_op, _jit_compiled_convolution_op, _update_step_xla while saving (showing 4 of 4). These functions will not be directly callable after loading.\n"
     ]
    },
    {
     "name": "stdout",
     "output_type": "stream",
     "text": [
      "INFO:tensorflow:Assets written to: models\\experiment-dropout-0\\assets\n"
     ]
    },
    {
     "name": "stderr",
     "output_type": "stream",
     "text": [
      "INFO:tensorflow:Assets written to: models\\experiment-dropout-0\\assets\n"
     ]
    },
    {
     "name": "stdout",
     "output_type": "stream",
     "text": [
      "782/782 [==============================] - 41s 53ms/step - loss: 0.0354 - accuracy: 0.9889 - val_loss: 1.4733e-04 - val_accuracy: 1.0000\n",
      "Epoch 9/10\n",
      "782/782 [==============================] - 41s 53ms/step - loss: 0.0432 - accuracy: 0.9859 - val_loss: 7.0687e-04 - val_accuracy: 1.0000\n",
      "Epoch 10/10\n",
      "782/782 [==============================] - 232s 297ms/step - loss: 0.0312 - accuracy: 0.9898 - val_loss: 4.6282e-04 - val_accuracy: 1.0000\n",
      "Epoch 1/10\n",
      "781/782 [============================>.] - ETA: 0s - loss: 1.8980 - accuracy: 0.4054"
     ]
    },
    {
     "name": "stderr",
     "output_type": "stream",
     "text": [
      "WARNING:absl:Found untraced functions such as _jit_compiled_convolution_op, _jit_compiled_convolution_op, _jit_compiled_convolution_op, _update_step_xla while saving (showing 4 of 4). These functions will not be directly callable after loading.\n"
     ]
    },
    {
     "name": "stdout",
     "output_type": "stream",
     "text": [
      "INFO:tensorflow:Assets written to: models\\experiment-dropout-1\\assets\n"
     ]
    },
    {
     "name": "stderr",
     "output_type": "stream",
     "text": [
      "INFO:tensorflow:Assets written to: models\\experiment-dropout-1\\assets\n"
     ]
    },
    {
     "name": "stdout",
     "output_type": "stream",
     "text": [
      "782/782 [==============================] - 40s 51ms/step - loss: 1.8976 - accuracy: 0.4055 - val_loss: 0.3371 - val_accuracy: 0.9169\n",
      "Epoch 2/10\n",
      "781/782 [============================>.] - ETA: 0s - loss: 0.4486 - accuracy: 0.8442"
     ]
    },
    {
     "name": "stderr",
     "output_type": "stream",
     "text": [
      "WARNING:absl:Found untraced functions such as _jit_compiled_convolution_op, _jit_compiled_convolution_op, _jit_compiled_convolution_op, _update_step_xla while saving (showing 4 of 4). These functions will not be directly callable after loading.\n"
     ]
    },
    {
     "name": "stdout",
     "output_type": "stream",
     "text": [
      "INFO:tensorflow:Assets written to: models\\experiment-dropout-1\\assets\n"
     ]
    },
    {
     "name": "stderr",
     "output_type": "stream",
     "text": [
      "INFO:tensorflow:Assets written to: models\\experiment-dropout-1\\assets\n"
     ]
    },
    {
     "name": "stdout",
     "output_type": "stream",
     "text": [
      "782/782 [==============================] - 45s 58ms/step - loss: 0.4486 - accuracy: 0.8442 - val_loss: 0.0660 - val_accuracy: 0.9866\n",
      "Epoch 3/10\n",
      "781/782 [============================>.] - ETA: 0s - loss: 0.2289 - accuracy: 0.9221"
     ]
    },
    {
     "name": "stderr",
     "output_type": "stream",
     "text": [
      "WARNING:absl:Found untraced functions such as _jit_compiled_convolution_op, _jit_compiled_convolution_op, _jit_compiled_convolution_op, _update_step_xla while saving (showing 4 of 4). These functions will not be directly callable after loading.\n"
     ]
    },
    {
     "name": "stdout",
     "output_type": "stream",
     "text": [
      "INFO:tensorflow:Assets written to: models\\experiment-dropout-1\\assets\n"
     ]
    },
    {
     "name": "stderr",
     "output_type": "stream",
     "text": [
      "INFO:tensorflow:Assets written to: models\\experiment-dropout-1\\assets\n"
     ]
    },
    {
     "name": "stdout",
     "output_type": "stream",
     "text": [
      "782/782 [==============================] - 40s 51ms/step - loss: 0.2288 - accuracy: 0.9221 - val_loss: 0.0313 - val_accuracy: 0.9927\n",
      "Epoch 4/10\n",
      "781/782 [============================>.] - ETA: 0s - loss: 0.1615 - accuracy: 0.9469"
     ]
    },
    {
     "name": "stderr",
     "output_type": "stream",
     "text": [
      "WARNING:absl:Found untraced functions such as _jit_compiled_convolution_op, _jit_compiled_convolution_op, _jit_compiled_convolution_op, _update_step_xla while saving (showing 4 of 4). These functions will not be directly callable after loading.\n"
     ]
    },
    {
     "name": "stdout",
     "output_type": "stream",
     "text": [
      "INFO:tensorflow:Assets written to: models\\experiment-dropout-1\\assets\n"
     ]
    },
    {
     "name": "stderr",
     "output_type": "stream",
     "text": [
      "INFO:tensorflow:Assets written to: models\\experiment-dropout-1\\assets\n"
     ]
    },
    {
     "name": "stdout",
     "output_type": "stream",
     "text": [
      "782/782 [==============================] - 43s 55ms/step - loss: 0.1615 - accuracy: 0.9469 - val_loss: 0.0184 - val_accuracy: 0.9947\n",
      "Epoch 5/10\n",
      "781/782 [============================>.] - ETA: 0s - loss: 0.1176 - accuracy: 0.9614"
     ]
    },
    {
     "name": "stderr",
     "output_type": "stream",
     "text": [
      "WARNING:absl:Found untraced functions such as _jit_compiled_convolution_op, _jit_compiled_convolution_op, _jit_compiled_convolution_op, _update_step_xla while saving (showing 4 of 4). These functions will not be directly callable after loading.\n"
     ]
    },
    {
     "name": "stdout",
     "output_type": "stream",
     "text": [
      "INFO:tensorflow:Assets written to: models\\experiment-dropout-1\\assets\n"
     ]
    },
    {
     "name": "stderr",
     "output_type": "stream",
     "text": [
      "INFO:tensorflow:Assets written to: models\\experiment-dropout-1\\assets\n"
     ]
    },
    {
     "name": "stdout",
     "output_type": "stream",
     "text": [
      "782/782 [==============================] - 50s 64ms/step - loss: 0.1176 - accuracy: 0.9614 - val_loss: 0.0021 - val_accuracy: 1.0000\n",
      "Epoch 6/10\n",
      "781/782 [============================>.] - ETA: 0s - loss: 0.1058 - accuracy: 0.9657"
     ]
    },
    {
     "name": "stderr",
     "output_type": "stream",
     "text": [
      "WARNING:absl:Found untraced functions such as _jit_compiled_convolution_op, _jit_compiled_convolution_op, _jit_compiled_convolution_op, _update_step_xla while saving (showing 4 of 4). These functions will not be directly callable after loading.\n"
     ]
    },
    {
     "name": "stdout",
     "output_type": "stream",
     "text": [
      "INFO:tensorflow:Assets written to: models\\experiment-dropout-1\\assets\n"
     ]
    },
    {
     "name": "stderr",
     "output_type": "stream",
     "text": [
      "INFO:tensorflow:Assets written to: models\\experiment-dropout-1\\assets\n"
     ]
    },
    {
     "name": "stdout",
     "output_type": "stream",
     "text": [
      "782/782 [==============================] - 48s 61ms/step - loss: 0.1058 - accuracy: 0.9656 - val_loss: 0.0018 - val_accuracy: 1.0000\n",
      "Epoch 7/10\n",
      "781/782 [============================>.] - ETA: 0s - loss: 0.0880 - accuracy: 0.9720"
     ]
    },
    {
     "name": "stderr",
     "output_type": "stream",
     "text": [
      "WARNING:absl:Found untraced functions such as _jit_compiled_convolution_op, _jit_compiled_convolution_op, _jit_compiled_convolution_op, _update_step_xla while saving (showing 4 of 4). These functions will not be directly callable after loading.\n"
     ]
    },
    {
     "name": "stdout",
     "output_type": "stream",
     "text": [
      "INFO:tensorflow:Assets written to: models\\experiment-dropout-1\\assets\n"
     ]
    },
    {
     "name": "stderr",
     "output_type": "stream",
     "text": [
      "INFO:tensorflow:Assets written to: models\\experiment-dropout-1\\assets\n"
     ]
    },
    {
     "name": "stdout",
     "output_type": "stream",
     "text": [
      "782/782 [==============================] - 37s 48ms/step - loss: 0.0880 - accuracy: 0.9719 - val_loss: 8.5709e-04 - val_accuracy: 1.0000\n",
      "Epoch 8/10\n",
      "782/782 [==============================] - 39s 50ms/step - loss: 0.0873 - accuracy: 0.9712 - val_loss: 0.0010 - val_accuracy: 1.0000\n",
      "Epoch 9/10\n",
      "781/782 [============================>.] - ETA: 0s - loss: 0.0692 - accuracy: 0.9774"
     ]
    },
    {
     "name": "stderr",
     "output_type": "stream",
     "text": [
      "WARNING:absl:Found untraced functions such as _jit_compiled_convolution_op, _jit_compiled_convolution_op, _jit_compiled_convolution_op, _update_step_xla while saving (showing 4 of 4). These functions will not be directly callable after loading.\n"
     ]
    },
    {
     "name": "stdout",
     "output_type": "stream",
     "text": [
      "INFO:tensorflow:Assets written to: models\\experiment-dropout-1\\assets\n"
     ]
    },
    {
     "name": "stderr",
     "output_type": "stream",
     "text": [
      "INFO:tensorflow:Assets written to: models\\experiment-dropout-1\\assets\n"
     ]
    },
    {
     "name": "stdout",
     "output_type": "stream",
     "text": [
      "782/782 [==============================] - 36s 46ms/step - loss: 0.0692 - accuracy: 0.9774 - val_loss: 1.6039e-04 - val_accuracy: 1.0000\n",
      "Epoch 10/10\n",
      "782/782 [==============================] - 36s 46ms/step - loss: 0.0664 - accuracy: 0.9802 - val_loss: 2.4454e-04 - val_accuracy: 1.0000\n",
      "Epoch 1/10\n",
      "781/782 [============================>.] - ETA: 0s - loss: 2.4356 - accuracy: 0.2389"
     ]
    },
    {
     "name": "stderr",
     "output_type": "stream",
     "text": [
      "WARNING:absl:Found untraced functions such as _jit_compiled_convolution_op, _jit_compiled_convolution_op, _jit_compiled_convolution_op, _update_step_xla while saving (showing 4 of 4). These functions will not be directly callable after loading.\n"
     ]
    },
    {
     "name": "stdout",
     "output_type": "stream",
     "text": [
      "INFO:tensorflow:Assets written to: models\\experiment-dropout-2\\assets\n"
     ]
    },
    {
     "name": "stderr",
     "output_type": "stream",
     "text": [
      "INFO:tensorflow:Assets written to: models\\experiment-dropout-2\\assets\n"
     ]
    },
    {
     "name": "stdout",
     "output_type": "stream",
     "text": [
      "782/782 [==============================] - 39s 49ms/step - loss: 2.4351 - accuracy: 0.2390 - val_loss: 0.8936 - val_accuracy: 0.7242\n",
      "Epoch 2/10\n",
      "781/782 [============================>.] - ETA: 0s - loss: 0.9427 - accuracy: 0.6755"
     ]
    },
    {
     "name": "stderr",
     "output_type": "stream",
     "text": [
      "WARNING:absl:Found untraced functions such as _jit_compiled_convolution_op, _jit_compiled_convolution_op, _jit_compiled_convolution_op, _update_step_xla while saving (showing 4 of 4). These functions will not be directly callable after loading.\n"
     ]
    },
    {
     "name": "stdout",
     "output_type": "stream",
     "text": [
      "INFO:tensorflow:Assets written to: models\\experiment-dropout-2\\assets\n"
     ]
    },
    {
     "name": "stderr",
     "output_type": "stream",
     "text": [
      "INFO:tensorflow:Assets written to: models\\experiment-dropout-2\\assets\n"
     ]
    },
    {
     "name": "stdout",
     "output_type": "stream",
     "text": [
      "782/782 [==============================] - 35s 45ms/step - loss: 0.9428 - accuracy: 0.6754 - val_loss: 0.2644 - val_accuracy: 0.9544\n",
      "Epoch 3/10\n",
      "781/782 [============================>.] - ETA: 0s - loss: 0.5601 - accuracy: 0.8065"
     ]
    },
    {
     "name": "stderr",
     "output_type": "stream",
     "text": [
      "WARNING:absl:Found untraced functions such as _jit_compiled_convolution_op, _jit_compiled_convolution_op, _jit_compiled_convolution_op, _update_step_xla while saving (showing 4 of 4). These functions will not be directly callable after loading.\n"
     ]
    },
    {
     "name": "stdout",
     "output_type": "stream",
     "text": [
      "INFO:tensorflow:Assets written to: models\\experiment-dropout-2\\assets\n"
     ]
    },
    {
     "name": "stderr",
     "output_type": "stream",
     "text": [
      "INFO:tensorflow:Assets written to: models\\experiment-dropout-2\\assets\n"
     ]
    },
    {
     "name": "stdout",
     "output_type": "stream",
     "text": [
      "782/782 [==============================] - 36s 46ms/step - loss: 0.5600 - accuracy: 0.8065 - val_loss: 0.1115 - val_accuracy: 0.9837\n",
      "Epoch 4/10\n",
      "782/782 [==============================] - ETA: 0s - loss: 0.4131 - accuracy: 0.8565"
     ]
    },
    {
     "name": "stderr",
     "output_type": "stream",
     "text": [
      "WARNING:absl:Found untraced functions such as _jit_compiled_convolution_op, _jit_compiled_convolution_op, _jit_compiled_convolution_op, _update_step_xla while saving (showing 4 of 4). These functions will not be directly callable after loading.\n"
     ]
    },
    {
     "name": "stdout",
     "output_type": "stream",
     "text": [
      "INFO:tensorflow:Assets written to: models\\experiment-dropout-2\\assets\n"
     ]
    },
    {
     "name": "stderr",
     "output_type": "stream",
     "text": [
      "INFO:tensorflow:Assets written to: models\\experiment-dropout-2\\assets\n"
     ]
    },
    {
     "name": "stdout",
     "output_type": "stream",
     "text": [
      "782/782 [==============================] - 37s 47ms/step - loss: 0.4131 - accuracy: 0.8565 - val_loss: 0.0990 - val_accuracy: 0.9902\n",
      "Epoch 5/10\n",
      "781/782 [============================>.] - ETA: 0s - loss: 0.3400 - accuracy: 0.8837"
     ]
    },
    {
     "name": "stderr",
     "output_type": "stream",
     "text": [
      "WARNING:absl:Found untraced functions such as _jit_compiled_convolution_op, _jit_compiled_convolution_op, _jit_compiled_convolution_op, _update_step_xla while saving (showing 4 of 4). These functions will not be directly callable after loading.\n"
     ]
    },
    {
     "name": "stdout",
     "output_type": "stream",
     "text": [
      "INFO:tensorflow:Assets written to: models\\experiment-dropout-2\\assets\n"
     ]
    },
    {
     "name": "stderr",
     "output_type": "stream",
     "text": [
      "INFO:tensorflow:Assets written to: models\\experiment-dropout-2\\assets\n"
     ]
    },
    {
     "name": "stdout",
     "output_type": "stream",
     "text": [
      "782/782 [==============================] - 37s 47ms/step - loss: 0.3399 - accuracy: 0.8837 - val_loss: 0.0411 - val_accuracy: 0.9951\n",
      "Epoch 6/10\n",
      "781/782 [============================>.] - ETA: 0s - loss: 0.2828 - accuracy: 0.9060"
     ]
    },
    {
     "name": "stderr",
     "output_type": "stream",
     "text": [
      "WARNING:absl:Found untraced functions such as _jit_compiled_convolution_op, _jit_compiled_convolution_op, _jit_compiled_convolution_op, _update_step_xla while saving (showing 4 of 4). These functions will not be directly callable after loading.\n"
     ]
    },
    {
     "name": "stdout",
     "output_type": "stream",
     "text": [
      "INFO:tensorflow:Assets written to: models\\experiment-dropout-2\\assets\n"
     ]
    },
    {
     "name": "stderr",
     "output_type": "stream",
     "text": [
      "INFO:tensorflow:Assets written to: models\\experiment-dropout-2\\assets\n"
     ]
    },
    {
     "name": "stdout",
     "output_type": "stream",
     "text": [
      "782/782 [==============================] - 36s 47ms/step - loss: 0.2828 - accuracy: 0.9060 - val_loss: 0.0209 - val_accuracy: 0.9976\n",
      "Epoch 7/10\n",
      "782/782 [==============================] - ETA: 0s - loss: 0.2421 - accuracy: 0.9194"
     ]
    },
    {
     "name": "stderr",
     "output_type": "stream",
     "text": [
      "WARNING:absl:Found untraced functions such as _jit_compiled_convolution_op, _jit_compiled_convolution_op, _jit_compiled_convolution_op, _update_step_xla while saving (showing 4 of 4). These functions will not be directly callable after loading.\n"
     ]
    },
    {
     "name": "stdout",
     "output_type": "stream",
     "text": [
      "INFO:tensorflow:Assets written to: models\\experiment-dropout-2\\assets\n"
     ]
    },
    {
     "name": "stderr",
     "output_type": "stream",
     "text": [
      "INFO:tensorflow:Assets written to: models\\experiment-dropout-2\\assets\n"
     ]
    },
    {
     "name": "stdout",
     "output_type": "stream",
     "text": [
      "782/782 [==============================] - 38s 49ms/step - loss: 0.2421 - accuracy: 0.9194 - val_loss: 0.0162 - val_accuracy: 0.9980\n",
      "Epoch 8/10\n",
      "781/782 [============================>.] - ETA: 0s - loss: 0.2200 - accuracy: 0.9260"
     ]
    },
    {
     "name": "stderr",
     "output_type": "stream",
     "text": [
      "WARNING:absl:Found untraced functions such as _jit_compiled_convolution_op, _jit_compiled_convolution_op, _jit_compiled_convolution_op, _update_step_xla while saving (showing 4 of 4). These functions will not be directly callable after loading.\n"
     ]
    },
    {
     "name": "stdout",
     "output_type": "stream",
     "text": [
      "INFO:tensorflow:Assets written to: models\\experiment-dropout-2\\assets\n"
     ]
    },
    {
     "name": "stderr",
     "output_type": "stream",
     "text": [
      "INFO:tensorflow:Assets written to: models\\experiment-dropout-2\\assets\n"
     ]
    },
    {
     "name": "stdout",
     "output_type": "stream",
     "text": [
      "782/782 [==============================] - 38s 49ms/step - loss: 0.2199 - accuracy: 0.9260 - val_loss: 0.0092 - val_accuracy: 0.9988\n",
      "Epoch 9/10\n",
      "781/782 [============================>.] - ETA: 0s - loss: 0.1978 - accuracy: 0.9354"
     ]
    },
    {
     "name": "stderr",
     "output_type": "stream",
     "text": [
      "WARNING:absl:Found untraced functions such as _jit_compiled_convolution_op, _jit_compiled_convolution_op, _jit_compiled_convolution_op, _update_step_xla while saving (showing 4 of 4). These functions will not be directly callable after loading.\n"
     ]
    },
    {
     "name": "stdout",
     "output_type": "stream",
     "text": [
      "INFO:tensorflow:Assets written to: models\\experiment-dropout-2\\assets\n"
     ]
    },
    {
     "name": "stderr",
     "output_type": "stream",
     "text": [
      "INFO:tensorflow:Assets written to: models\\experiment-dropout-2\\assets\n"
     ]
    },
    {
     "name": "stdout",
     "output_type": "stream",
     "text": [
      "782/782 [==============================] - 37s 47ms/step - loss: 0.1981 - accuracy: 0.9354 - val_loss: 0.0069 - val_accuracy: 0.9992\n",
      "Epoch 10/10\n",
      "781/782 [============================>.] - ETA: 0s - loss: 0.1837 - accuracy: 0.9394"
     ]
    },
    {
     "name": "stderr",
     "output_type": "stream",
     "text": [
      "WARNING:absl:Found untraced functions such as _jit_compiled_convolution_op, _jit_compiled_convolution_op, _jit_compiled_convolution_op, _update_step_xla while saving (showing 4 of 4). These functions will not be directly callable after loading.\n"
     ]
    },
    {
     "name": "stdout",
     "output_type": "stream",
     "text": [
      "INFO:tensorflow:Assets written to: models\\experiment-dropout-2\\assets\n"
     ]
    },
    {
     "name": "stderr",
     "output_type": "stream",
     "text": [
      "INFO:tensorflow:Assets written to: models\\experiment-dropout-2\\assets\n"
     ]
    },
    {
     "name": "stdout",
     "output_type": "stream",
     "text": [
      "782/782 [==============================] - 36s 46ms/step - loss: 0.1837 - accuracy: 0.9394 - val_loss: 0.0056 - val_accuracy: 0.9984\n"
     ]
    }
   ],
   "source": [
    "# Models\n",
    "# 'models/experiment-dropout-0'\n",
    "# 'models/experiment-dropout-1'\n",
    "# 'models/experiment-dropout-2'\n",
    "\n",
    "# History objects\n",
    "# 'models/experiment-dropout-0-history'\n",
    "# 'models/experiment-dropout-1-history'\n",
    "# 'models/experiment-dropout-2-history'\n",
    "\n",
    "early_stopping_cb = keras.callbacks.EarlyStopping(patience=5)\n",
    "\n",
    "dropout_rates = [0.3, 0.4, 0.5]\n",
    "\n",
    "for index, i in enumerate(dropout_rates):\n",
    "    model = keras.models.Sequential()\n",
    "    model.add(keras.layers.Conv2D(24, (5, 5), padding='same', activation='relu'))\n",
    "    model.add(keras.layers.MaxPooling2D(pool_size=(2, 2)))\n",
    "    model.add(keras.layers.Dropout(i))\n",
    "    model.add(keras.layers.Conv2D(48, (5, 5), padding='same', activation='relu'))\n",
    "    model.add(keras.layers.MaxPooling2D(pool_size=(2, 2)))\n",
    "    model.add(keras.layers.Dropout(i))\n",
    "    model.add(keras.layers.Conv2D(96, (5, 5), padding='same', activation='relu'))\n",
    "    model.add(keras.layers.MaxPooling2D(pool_size=(2, 2)))\n",
    "    model.add(keras.layers.Dropout(i))\n",
    "    model.add(keras.layers.Flatten())\n",
    "    model.add(keras.layers.Dense(128, activation='relu'))\n",
    "    model.add(keras.layers.Dropout(i))\n",
    "    model.add(keras.layers.Dense(24, activation='softmax'))\n",
    "    model.compile(loss='categorical_crossentropy', optimizer='adam', metrics=['accuracy'])\n",
    "    save_best_cb = keras.callbacks.ModelCheckpoint(f'models/experiment-dropout-{index}', save_best_only=True)\n",
    "    history = model.fit(X_train, y_train, epochs=10, validation_data=(X_valid, y_valid), callbacks=[save_best_cb, early_stopping_cb])\n",
    "    with open(f'models/experiment-dropout-{index}-history', 'wb') as history_file:\n",
    "        pickle.dump(history.history, history_file)"
   ]
  },
  {
   "cell_type": "code",
   "execution_count": 91,
   "id": "97243155",
   "metadata": {},
   "outputs": [
    {
     "name": "stdout",
     "output_type": "stream",
     "text": [
      "77/77 [==============================] - 2s 16ms/step - loss: 1.4733e-04 - accuracy: 1.0000\n",
      "77/77 [==============================] - 1s 15ms/step - loss: 1.6039e-04 - accuracy: 1.0000\n",
      "77/77 [==============================] - 1s 16ms/step - loss: 0.0056 - accuracy: 0.9984\n"
     ]
    }
   ],
   "source": [
    "for index in range(3):\n",
    "    model = keras.models.load_model(f'models/experiment-dropout-{index}')\n",
    "    model.evaluate(X_valid, y_valid)"
   ]
  },
  {
   "cell_type": "code",
   "execution_count": 92,
   "id": "e3b5e4d1",
   "metadata": {
    "scrolled": true
   },
   "outputs": [
    {
     "data": {
      "image/png": "[encoded data removed]",
      "text/plain": [
       "<Figure size 1000x500 with 1 Axes>"
      ]
     },
     "metadata": {},
     "output_type": "display_data"
    },
    {
     "data": {
      "image/png": "[encoded data removed]",
      "text/plain": [
       "<Figure size 1000x500 with 1 Axes>"
      ]
     },
     "metadata": {},
     "output_type": "display_data"
    },
    {
     "data": {
      "image/png": "[encoded data removed]",
      "text/plain": [
       "<Figure size 1000x500 with 1 Axes>"
      ]
     },
     "metadata": {},
     "output_type": "display_data"
    }
   ],
   "source": [
    "h_0 = np.load('models/experiment-dropout-0-history', allow_pickle=True)\n",
    "h_1 = np.load('models/experiment-dropout-1-history', allow_pickle=True)\n",
    "h_2 = np.load('models/experiment-dropout-2-history', allow_pickle=True)\n",
    "\n",
    "get_train_val_plots(h_0)\n",
    "get_train_val_plots(h_1)\n",
    "get_train_val_plots(h_2)"
   ]
  },
  {
   "cell_type": "markdown",
   "id": "12fda6b1",
   "metadata": {},
   "source": [
    "Select Model 1"
   ]
  },
  {
   "cell_type": "markdown",
   "id": "2a324af8",
   "metadata": {},
   "source": [
    "## Data Augmentation"
   ]
  },
  {
   "cell_type": "code",
   "execution_count": 93,
   "id": "a8248a34",
   "metadata": {},
   "outputs": [],
   "source": [
    "# Sample Code\n",
    "\n",
    "data_augmentation = keras.models.Sequential()\n",
    "data_augmentation.add(keras.layers.RandomRotation(0.1, fill_mode='nearest', input_shape=(28, 28, 1)))\n",
    "data_augmentation.add(keras.layers.RandomZoom((0.15, 0.2), fill_mode='nearest'))\n",
    "data_augmentation.add(keras.layers.RandomTranslation(0.1, 0.1, fill_mode='nearest'))\n",
    "\n",
    "model = keras.models.Sequential()\n",
    "# Add the layers from the above model"
   ]
  },
  {
   "cell_type": "markdown",
   "id": "4d16aecf",
   "metadata": {},
   "source": [
    "Improves the models performance by decreasing the tendency to overfit"
   ]
  },
  {
   "cell_type": "markdown",
   "id": "5a43ebe6",
   "metadata": {},
   "source": [
    "## Other Hyperparameters to try\n",
    "\n",
    "1. Batch Normalization - It normalizes the layer inputs\n",
    "2. Deeper networks work well - Replacing the single convolution layer of filter size (5X5) with two successive consecutive convolution layers of filter size (3X3)\n",
    "3. Number of units in the dense layer and number of dense layers\n",
    "4. Replacing the MaxPooling Layer with a convolution layer having a stride > 1\n",
    "5. Optimizers\n",
    "6. Learning rate of the optimizer"
   ]
  },
  {
   "cell_type": "markdown",
   "id": "ec6be927",
   "metadata": {},
   "source": [
    "## Visualising the final model"
   ]
  },
  {
   "cell_type": "code",
   "execution_count": 94,
   "id": "753b2d78",
   "metadata": {
    "scrolled": true
   },
   "outputs": [
    {
     "name": "stdout",
     "output_type": "stream",
     "text": [
      "You must install pydot (`pip install pydot`) and install graphviz (see instructions at https://graphviz.gitlab.io/download/) for plot_model to work.\n"
     ]
    }
   ],
   "source": [
    "best_model = keras.models.load_model('models/experiment-dropout-0/')\n",
    "plot_model(best_model, to_file='model.png', show_shapes=True, show_layer_names=True)"
   ]
  },
  {
   "cell_type": "markdown",
   "id": "b04bca5e",
   "metadata": {},
   "source": [
    "# Performance on the Test Set"
   ]
  },
  {
   "cell_type": "code",
   "execution_count": 95,
   "id": "90fee9da",
   "metadata": {},
   "outputs": [],
   "source": [
    "test_df = pd.read_csv('data/alphabet/sign_mnist_test.csv')\n",
    "X_test, y_test = test_df.drop('label', axis=1), test_df['label']"
   ]
  },
  {
   "cell_type": "code",
   "execution_count": 96,
   "id": "588e05b8",
   "metadata": {},
   "outputs": [],
   "source": [
    "best_model = keras.models.load_model('models/experiment-dropout-0/')"
   ]
  },
  {
   "cell_type": "code",
   "execution_count": 97,
   "id": "666818aa",
   "metadata": {},
   "outputs": [
    {
     "name": "stdout",
     "output_type": "stream",
     "text": [
      "225/225 [==============================] - 4s 16ms/step - loss: 13.9326 - accuracy: 0.9750\n",
      "Loss: 13.933 Accuracy: 0.975\n"
     ]
    }
   ],
   "source": [
    "evaluate_model(best_model, X_test, y_test, label_binarizer)"
   ]
  },
  {
   "cell_type": "markdown",
   "id": "a8090486",
   "metadata": {},
   "source": [
    "Accuracy: 96%"
   ]
  },
  {
   "cell_type": "code",
   "execution_count": 98,
   "id": "82643927",
   "metadata": {},
   "outputs": [],
   "source": [
    "test_df = pd.read_csv('data/alphabet/sign_mnist_test.csv')\n",
    "X_test, y_test = test_df.drop('label', axis=1), test_df['label']"
   ]
  },
  {
   "cell_type": "code",
   "execution_count": 99,
   "id": "5d02d431",
   "metadata": {},
   "outputs": [],
   "source": [
    "# Applying normalisation which is applied for X_train\n",
    "X_test /= 255.0"
   ]
  },
  {
   "cell_type": "code",
   "execution_count": 100,
   "id": "7332b757",
   "metadata": {},
   "outputs": [],
   "source": [
    "best_model = keras.models.load_model('models/experiment-dropout-0/')"
   ]
  },
  {
   "cell_type": "code",
   "execution_count": 101,
   "id": "83bb851a",
   "metadata": {},
   "outputs": [
    {
     "name": "stdout",
     "output_type": "stream",
     "text": [
      "225/225 [==============================] - 3s 15ms/step - loss: 0.0933 - accuracy: 0.9756\n",
      "Loss: 0.093 Accuracy: 0.976\n"
     ]
    }
   ],
   "source": [
    "evaluate_model(best_model, X_test, y_test, label_binarizer)"
   ]
  },
  {
   "cell_type": "markdown",
   "id": "97e05057",
   "metadata": {},
   "source": [
    "Accuracy: 96%"
   ]
  },
  {
   "cell_type": "code",
   "execution_count": null,
   "id": "6d8a4735",
   "metadata": {},
   "outputs": [],
   "source": []
  }
 ],
 "metadata": {
  "kernelspec": {
   "display_name": "Python 3 (ipykernel)",
   "language": "python",
   "name": "python3"
  },
  "language_info": {
   "codemirror_mode": {
    "name": "ipython",
    "version": 3
   },
   "file_extension": ".py",
   "mimetype": "text/x-python",
   "name": "python",
   "nbconvert_exporter": "python",
   "pygments_lexer": "ipython3",
   "version": "3.11.0"
  }
 },
 "nbformat": 4,
 "nbformat_minor": 5
}
